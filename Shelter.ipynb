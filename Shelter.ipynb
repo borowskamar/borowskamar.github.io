{
 "cells": [
  {
   "cell_type": "markdown",
   "id": "c5236f33-a20e-4120-951a-780d6baa4c31",
   "metadata": {},
   "source": [
    "### Importing libraries"
   ]
  },
  {
   "cell_type": "code",
   "execution_count": 3613,
   "id": "095a0146-337e-4229-bf70-f68e0b57748e",
   "metadata": {},
   "outputs": [],
   "source": [
    "import pandas as pd \n",
    "import matplotlib.pyplot as plt\n",
    "import seaborn as sns\n",
    "import numpy as np\n",
    "import statsmodels.api as sm\n",
    "from scipy.stats import zscore\n",
    "from scipy.stats import ttest_ind"
   ]
  },
  {
   "cell_type": "markdown",
   "id": "c8ba240a-18d9-45ed-a19f-fcfc8dbc9332",
   "metadata": {},
   "source": [
    "### Importing data and basic exploration"
   ]
  },
  {
   "cell_type": "code",
   "execution_count": 3615,
   "id": "57811fed-3a4d-41fa-bcd0-3306eec70d26",
   "metadata": {},
   "outputs": [],
   "source": [
    "df = pd.read_csv('adoptions.csv', sep=';')"
   ]
  },
  {
   "cell_type": "code",
   "execution_count": 3616,
   "id": "cd8eedc8-08ba-4d70-ad50-49971579cac0",
   "metadata": {},
   "outputs": [
    {
     "data": {
      "text/plain": [
       "(709, 11)"
      ]
     },
     "execution_count": 3616,
     "metadata": {},
     "output_type": "execute_result"
    }
   ],
   "source": [
    "# Checking the number of rows and columns\n",
    "df.shape"
   ]
  },
  {
   "cell_type": "code",
   "execution_count": 3617,
   "id": "7c0d59f6-f08d-4774-a2f0-83f4a2ddbf5b",
   "metadata": {},
   "outputs": [
    {
     "data": {
      "text/html": [
       "<div>\n",
       "<style scoped>\n",
       "    .dataframe tbody tr th:only-of-type {\n",
       "        vertical-align: middle;\n",
       "    }\n",
       "\n",
       "    .dataframe tbody tr th {\n",
       "        vertical-align: top;\n",
       "    }\n",
       "\n",
       "    .dataframe thead th {\n",
       "        text-align: right;\n",
       "    }\n",
       "</style>\n",
       "<table border=\"1\" class=\"dataframe\">\n",
       "  <thead>\n",
       "    <tr style=\"text-align: right;\">\n",
       "      <th></th>\n",
       "      <th>Name</th>\n",
       "      <th>Reference Number</th>\n",
       "      <th>Arrival Date</th>\n",
       "      <th>Age when adopted</th>\n",
       "      <th>Weight in kg</th>\n",
       "      <th>Adoption Date</th>\n",
       "      <th>Returned</th>\n",
       "      <th>Date of return</th>\n",
       "      <th>Breed</th>\n",
       "      <th>Gender</th>\n",
       "      <th>Black fur</th>\n",
       "    </tr>\n",
       "  </thead>\n",
       "  <tbody>\n",
       "    <tr>\n",
       "      <th>0</th>\n",
       "      <td>Mimir</td>\n",
       "      <td>425/24</td>\n",
       "      <td>19.03.2024</td>\n",
       "      <td>9</td>\n",
       "      <td>52</td>\n",
       "      <td>01.02.2025</td>\n",
       "      <td>FALSE</td>\n",
       "      <td>NaN</td>\n",
       "      <td>Moscow Watchdog</td>\n",
       "      <td>male</td>\n",
       "      <td>False</td>\n",
       "    </tr>\n",
       "    <tr>\n",
       "      <th>1</th>\n",
       "      <td>Tarzan</td>\n",
       "      <td>1284/23</td>\n",
       "      <td>03.09.2023</td>\n",
       "      <td>9</td>\n",
       "      <td>27</td>\n",
       "      <td>08.02.2025</td>\n",
       "      <td>FALSE</td>\n",
       "      <td>NaN</td>\n",
       "      <td>mix-breed</td>\n",
       "      <td>male</td>\n",
       "      <td>True</td>\n",
       "    </tr>\n",
       "    <tr>\n",
       "      <th>2</th>\n",
       "      <td>Ulfi</td>\n",
       "      <td>1518/24</td>\n",
       "      <td>28.10.2024</td>\n",
       "      <td>3</td>\n",
       "      <td>19</td>\n",
       "      <td>15.02.2025</td>\n",
       "      <td>FALSE</td>\n",
       "      <td>NaN</td>\n",
       "      <td>mix-breed</td>\n",
       "      <td>male</td>\n",
       "      <td>False</td>\n",
       "    </tr>\n",
       "    <tr>\n",
       "      <th>3</th>\n",
       "      <td>Serek</td>\n",
       "      <td>1732/24</td>\n",
       "      <td>18.12.2024</td>\n",
       "      <td>9</td>\n",
       "      <td>8</td>\n",
       "      <td>25.01.2025</td>\n",
       "      <td>FALSE</td>\n",
       "      <td>NaN</td>\n",
       "      <td>Yorkshire Terrier</td>\n",
       "      <td>male</td>\n",
       "      <td>False</td>\n",
       "    </tr>\n",
       "    <tr>\n",
       "      <th>4</th>\n",
       "      <td>Thor</td>\n",
       "      <td>1577/24</td>\n",
       "      <td>09.11.2024</td>\n",
       "      <td>2</td>\n",
       "      <td>25</td>\n",
       "      <td>17.01.2025</td>\n",
       "      <td>FALSE</td>\n",
       "      <td>NaN</td>\n",
       "      <td>Amstaff</td>\n",
       "      <td>male</td>\n",
       "      <td>True</td>\n",
       "    </tr>\n",
       "    <tr>\n",
       "      <th>5</th>\n",
       "      <td>Amigo</td>\n",
       "      <td>NaN</td>\n",
       "      <td>12.08.2024</td>\n",
       "      <td>2</td>\n",
       "      <td>5</td>\n",
       "      <td>13.12.2024</td>\n",
       "      <td>FALSE</td>\n",
       "      <td>NaN</td>\n",
       "      <td>mix-breed</td>\n",
       "      <td>male</td>\n",
       "      <td>False</td>\n",
       "    </tr>\n",
       "    <tr>\n",
       "      <th>6</th>\n",
       "      <td>Serek</td>\n",
       "      <td>1548/24</td>\n",
       "      <td>04.11.2024</td>\n",
       "      <td>9</td>\n",
       "      <td>8</td>\n",
       "      <td>07.12.2024</td>\n",
       "      <td>TRUE</td>\n",
       "      <td>18.12.2024</td>\n",
       "      <td>Yorkshire Terrier</td>\n",
       "      <td>male</td>\n",
       "      <td>False</td>\n",
       "    </tr>\n",
       "    <tr>\n",
       "      <th>7</th>\n",
       "      <td>Lorek</td>\n",
       "      <td>871/23</td>\n",
       "      <td>11.06.2023</td>\n",
       "      <td>2</td>\n",
       "      <td>22</td>\n",
       "      <td>25.11.2024</td>\n",
       "      <td>FALSE</td>\n",
       "      <td>NaN</td>\n",
       "      <td>mix-breed</td>\n",
       "      <td>male</td>\n",
       "      <td>False</td>\n",
       "    </tr>\n",
       "    <tr>\n",
       "      <th>8</th>\n",
       "      <td>Nocka</td>\n",
       "      <td>1534/24</td>\n",
       "      <td>01.11.2024</td>\n",
       "      <td>4</td>\n",
       "      <td>11</td>\n",
       "      <td>23.11.2024</td>\n",
       "      <td>FALSE</td>\n",
       "      <td>NaN</td>\n",
       "      <td>mix-breed</td>\n",
       "      <td>female</td>\n",
       "      <td>False</td>\n",
       "    </tr>\n",
       "    <tr>\n",
       "      <th>9</th>\n",
       "      <td>Vadim</td>\n",
       "      <td>78/24</td>\n",
       "      <td>15.01.2024</td>\n",
       "      <td>7</td>\n",
       "      <td>27</td>\n",
       "      <td>16.11.2024</td>\n",
       "      <td>FALSE</td>\n",
       "      <td>NaN</td>\n",
       "      <td>mix-breed</td>\n",
       "      <td>male</td>\n",
       "      <td>True</td>\n",
       "    </tr>\n",
       "    <tr>\n",
       "      <th>10</th>\n",
       "      <td>Smerfuś</td>\n",
       "      <td>1063/24</td>\n",
       "      <td>23.07.2024</td>\n",
       "      <td>8 months</td>\n",
       "      <td>14</td>\n",
       "      <td>12.11.2024</td>\n",
       "      <td>FALSE</td>\n",
       "      <td>NaN</td>\n",
       "      <td>mix-breed</td>\n",
       "      <td>male</td>\n",
       "      <td>True</td>\n",
       "    </tr>\n",
       "    <tr>\n",
       "      <th>11</th>\n",
       "      <td>Sato</td>\n",
       "      <td>268/24</td>\n",
       "      <td>20.02.2024</td>\n",
       "      <td>1</td>\n",
       "      <td>23</td>\n",
       "      <td>12.11.2024</td>\n",
       "      <td>FALSE</td>\n",
       "      <td>NaN</td>\n",
       "      <td>mix-breed</td>\n",
       "      <td>male</td>\n",
       "      <td>True</td>\n",
       "    </tr>\n",
       "    <tr>\n",
       "      <th>12</th>\n",
       "      <td>Misza</td>\n",
       "      <td>1087/24</td>\n",
       "      <td>28.07.2024</td>\n",
       "      <td>11 months</td>\n",
       "      <td>9</td>\n",
       "      <td>19.10.2024</td>\n",
       "      <td>FALSE</td>\n",
       "      <td>NaN</td>\n",
       "      <td>mix-breed</td>\n",
       "      <td>female</td>\n",
       "      <td>True</td>\n",
       "    </tr>\n",
       "    <tr>\n",
       "      <th>13</th>\n",
       "      <td>Goldi</td>\n",
       "      <td>1399/24</td>\n",
       "      <td>06.10.2024</td>\n",
       "      <td>8</td>\n",
       "      <td>24,5</td>\n",
       "      <td>13.10.2024</td>\n",
       "      <td>FALSE</td>\n",
       "      <td>NaN</td>\n",
       "      <td>mix-breed</td>\n",
       "      <td>male</td>\n",
       "      <td>False</td>\n",
       "    </tr>\n",
       "    <tr>\n",
       "      <th>14</th>\n",
       "      <td>Fendi</td>\n",
       "      <td>1219/24</td>\n",
       "      <td>24.08.2024</td>\n",
       "      <td>2</td>\n",
       "      <td>10</td>\n",
       "      <td>05.10.2024</td>\n",
       "      <td>FALSE</td>\n",
       "      <td>NaN</td>\n",
       "      <td>mix-breed</td>\n",
       "      <td>female</td>\n",
       "      <td>False</td>\n",
       "    </tr>\n",
       "    <tr>\n",
       "      <th>15</th>\n",
       "      <td>Diament</td>\n",
       "      <td>1220/24</td>\n",
       "      <td>24.08.2024</td>\n",
       "      <td>3</td>\n",
       "      <td>13</td>\n",
       "      <td>30.09.2024</td>\n",
       "      <td>FALSE</td>\n",
       "      <td>NaN</td>\n",
       "      <td>mix-breed</td>\n",
       "      <td>male</td>\n",
       "      <td>True</td>\n",
       "    </tr>\n",
       "    <tr>\n",
       "      <th>16</th>\n",
       "      <td>Tola</td>\n",
       "      <td>1126/24</td>\n",
       "      <td>03.08.2024</td>\n",
       "      <td>8 months</td>\n",
       "      <td>8</td>\n",
       "      <td>27.09.2024</td>\n",
       "      <td>FALSE</td>\n",
       "      <td>NaN</td>\n",
       "      <td>mix-breed</td>\n",
       "      <td>female</td>\n",
       "      <td>True</td>\n",
       "    </tr>\n",
       "    <tr>\n",
       "      <th>17</th>\n",
       "      <td>Libia</td>\n",
       "      <td>645/23</td>\n",
       "      <td>24.04.2023</td>\n",
       "      <td>2</td>\n",
       "      <td>36</td>\n",
       "      <td>14.09.2024</td>\n",
       "      <td>FALSE</td>\n",
       "      <td>NaN</td>\n",
       "      <td>mix-breed</td>\n",
       "      <td>female</td>\n",
       "      <td>True</td>\n",
       "    </tr>\n",
       "    <tr>\n",
       "      <th>18</th>\n",
       "      <td>Figaro</td>\n",
       "      <td>1017/24</td>\n",
       "      <td>15.07.2024</td>\n",
       "      <td>1</td>\n",
       "      <td>9</td>\n",
       "      <td>09.09.2024</td>\n",
       "      <td>FALSE</td>\n",
       "      <td>NaN</td>\n",
       "      <td>mix-breed</td>\n",
       "      <td>male</td>\n",
       "      <td>False</td>\n",
       "    </tr>\n",
       "    <tr>\n",
       "      <th>19</th>\n",
       "      <td>Gloria</td>\n",
       "      <td>352/24</td>\n",
       "      <td>07.03.2024</td>\n",
       "      <td>9</td>\n",
       "      <td>14</td>\n",
       "      <td>07.09.2024</td>\n",
       "      <td>FALSE</td>\n",
       "      <td>NaN</td>\n",
       "      <td>mix-breed</td>\n",
       "      <td>female</td>\n",
       "      <td>True</td>\n",
       "    </tr>\n",
       "    <tr>\n",
       "      <th>20</th>\n",
       "      <td>Milka</td>\n",
       "      <td>1011/24</td>\n",
       "      <td>14.07.2024</td>\n",
       "      <td>1</td>\n",
       "      <td>12</td>\n",
       "      <td>25.08.2024</td>\n",
       "      <td>FALSE</td>\n",
       "      <td>NaN</td>\n",
       "      <td>mix-breed</td>\n",
       "      <td>female</td>\n",
       "      <td>False</td>\n",
       "    </tr>\n",
       "    <tr>\n",
       "      <th>21</th>\n",
       "      <td>Dyzio</td>\n",
       "      <td>1020/24</td>\n",
       "      <td>16.07.2024</td>\n",
       "      <td>1</td>\n",
       "      <td>7</td>\n",
       "      <td>24.08.2024</td>\n",
       "      <td>FALSE</td>\n",
       "      <td>NaN</td>\n",
       "      <td>mix-breed</td>\n",
       "      <td>male</td>\n",
       "      <td>False</td>\n",
       "    </tr>\n",
       "    <tr>\n",
       "      <th>22</th>\n",
       "      <td>Tyrs</td>\n",
       "      <td>589/24</td>\n",
       "      <td>19.04.2024</td>\n",
       "      <td>2</td>\n",
       "      <td>24</td>\n",
       "      <td>17.08.2024</td>\n",
       "      <td>FALSE</td>\n",
       "      <td>NaN</td>\n",
       "      <td>Pit Bull</td>\n",
       "      <td>male</td>\n",
       "      <td>True</td>\n",
       "    </tr>\n",
       "    <tr>\n",
       "      <th>23</th>\n",
       "      <td>Maksio</td>\n",
       "      <td>267/24</td>\n",
       "      <td>20.02.2024</td>\n",
       "      <td>1</td>\n",
       "      <td>20</td>\n",
       "      <td>12.07.2024</td>\n",
       "      <td>TRUE</td>\n",
       "      <td>15.07.2024</td>\n",
       "      <td>mix-breed</td>\n",
       "      <td>male</td>\n",
       "      <td>True</td>\n",
       "    </tr>\n",
       "    <tr>\n",
       "      <th>24</th>\n",
       "      <td>Xena</td>\n",
       "      <td>401/24</td>\n",
       "      <td>16.03.2024</td>\n",
       "      <td>1</td>\n",
       "      <td>14</td>\n",
       "      <td>12.07.2024</td>\n",
       "      <td>FALSE</td>\n",
       "      <td>NaN</td>\n",
       "      <td>mix-breed</td>\n",
       "      <td>female</td>\n",
       "      <td>True</td>\n",
       "    </tr>\n",
       "    <tr>\n",
       "      <th>25</th>\n",
       "      <td>Lolo</td>\n",
       "      <td>464/24</td>\n",
       "      <td>29.03.2024</td>\n",
       "      <td>3</td>\n",
       "      <td>29</td>\n",
       "      <td>06.07.2024</td>\n",
       "      <td>FALSE</td>\n",
       "      <td>NaN</td>\n",
       "      <td>mix-breed</td>\n",
       "      <td>male</td>\n",
       "      <td>True</td>\n",
       "    </tr>\n",
       "    <tr>\n",
       "      <th>26</th>\n",
       "      <td>Guinness</td>\n",
       "      <td>342/24</td>\n",
       "      <td>05.03.2024</td>\n",
       "      <td>2</td>\n",
       "      <td>27</td>\n",
       "      <td>27.06.2024</td>\n",
       "      <td>TRUE</td>\n",
       "      <td>16.07.2024</td>\n",
       "      <td>mix-breed</td>\n",
       "      <td>male</td>\n",
       "      <td>True</td>\n",
       "    </tr>\n",
       "    <tr>\n",
       "      <th>27</th>\n",
       "      <td>Anuszka</td>\n",
       "      <td>99/24</td>\n",
       "      <td>20.01.2024</td>\n",
       "      <td>5</td>\n",
       "      <td>56</td>\n",
       "      <td>23.06.2024</td>\n",
       "      <td>FALSE</td>\n",
       "      <td>NaN</td>\n",
       "      <td>St. Bernard</td>\n",
       "      <td>female</td>\n",
       "      <td>False</td>\n",
       "    </tr>\n",
       "    <tr>\n",
       "      <th>28</th>\n",
       "      <td>Malaki</td>\n",
       "      <td>866/23</td>\n",
       "      <td>10.06.2023</td>\n",
       "      <td>7</td>\n",
       "      <td>41</td>\n",
       "      <td>23.06.2024</td>\n",
       "      <td>FALSE</td>\n",
       "      <td>NaN</td>\n",
       "      <td>mix-breed</td>\n",
       "      <td>male</td>\n",
       "      <td>False</td>\n",
       "    </tr>\n",
       "    <tr>\n",
       "      <th>29</th>\n",
       "      <td>Forrest</td>\n",
       "      <td>958/23</td>\n",
       "      <td>01.07.2023</td>\n",
       "      <td>11</td>\n",
       "      <td>21</td>\n",
       "      <td>16.06.2024</td>\n",
       "      <td>FALSE</td>\n",
       "      <td>NaN</td>\n",
       "      <td>mix-breed</td>\n",
       "      <td>male</td>\n",
       "      <td>True</td>\n",
       "    </tr>\n",
       "  </tbody>\n",
       "</table>\n",
       "</div>"
      ],
      "text/plain": [
       "        Name Reference Number Arrival Date Age when adopted Weight in kg  \\\n",
       "0      Mimir           425/24   19.03.2024                9           52   \n",
       "1     Tarzan          1284/23   03.09.2023                9           27   \n",
       "2       Ulfi          1518/24   28.10.2024                3           19   \n",
       "3      Serek          1732/24   18.12.2024                9            8   \n",
       "4       Thor          1577/24   09.11.2024                2           25   \n",
       "5      Amigo              NaN   12.08.2024                2            5   \n",
       "6      Serek          1548/24   04.11.2024                9            8   \n",
       "7      Lorek           871/23   11.06.2023                2           22   \n",
       "8      Nocka          1534/24   01.11.2024                4           11   \n",
       "9      Vadim            78/24   15.01.2024                7           27   \n",
       "10   Smerfuś          1063/24   23.07.2024         8 months           14   \n",
       "11      Sato           268/24   20.02.2024                1           23   \n",
       "12     Misza          1087/24   28.07.2024        11 months            9   \n",
       "13     Goldi          1399/24   06.10.2024                8         24,5   \n",
       "14     Fendi          1219/24   24.08.2024                2           10   \n",
       "15   Diament          1220/24   24.08.2024                3           13   \n",
       "16      Tola          1126/24   03.08.2024         8 months            8   \n",
       "17     Libia           645/23   24.04.2023                2           36   \n",
       "18    Figaro          1017/24   15.07.2024                1            9   \n",
       "19    Gloria           352/24   07.03.2024                9           14   \n",
       "20     Milka          1011/24   14.07.2024                1           12   \n",
       "21     Dyzio          1020/24   16.07.2024                1            7   \n",
       "22      Tyrs           589/24   19.04.2024                2           24   \n",
       "23    Maksio           267/24   20.02.2024                1           20   \n",
       "24      Xena           401/24   16.03.2024                1           14   \n",
       "25      Lolo           464/24   29.03.2024                3           29   \n",
       "26  Guinness           342/24   05.03.2024                2           27   \n",
       "27   Anuszka            99/24   20.01.2024                5           56   \n",
       "28    Malaki           866/23   10.06.2023                7           41   \n",
       "29   Forrest           958/23   01.07.2023               11           21   \n",
       "\n",
       "   Adoption Date Returned Date of return              Breed  Gender Black fur  \n",
       "0     01.02.2025    FALSE            NaN    Moscow Watchdog    male     False  \n",
       "1     08.02.2025    FALSE            NaN          mix-breed    male      True  \n",
       "2     15.02.2025    FALSE            NaN          mix-breed    male     False  \n",
       "3     25.01.2025    FALSE            NaN  Yorkshire Terrier    male     False  \n",
       "4     17.01.2025    FALSE            NaN            Amstaff    male      True  \n",
       "5     13.12.2024    FALSE            NaN          mix-breed    male     False  \n",
       "6     07.12.2024     TRUE     18.12.2024  Yorkshire Terrier    male     False  \n",
       "7     25.11.2024    FALSE            NaN          mix-breed    male     False  \n",
       "8     23.11.2024    FALSE            NaN          mix-breed  female     False  \n",
       "9     16.11.2024    FALSE            NaN          mix-breed    male      True  \n",
       "10    12.11.2024    FALSE            NaN          mix-breed    male      True  \n",
       "11    12.11.2024    FALSE            NaN          mix-breed    male      True  \n",
       "12    19.10.2024    FALSE            NaN          mix-breed  female      True  \n",
       "13    13.10.2024    FALSE            NaN          mix-breed    male     False  \n",
       "14    05.10.2024    FALSE            NaN          mix-breed  female     False  \n",
       "15    30.09.2024    FALSE            NaN          mix-breed    male      True  \n",
       "16    27.09.2024    FALSE            NaN          mix-breed  female      True  \n",
       "17    14.09.2024    FALSE            NaN          mix-breed  female      True  \n",
       "18    09.09.2024    FALSE            NaN          mix-breed    male     False  \n",
       "19    07.09.2024    FALSE            NaN          mix-breed  female      True  \n",
       "20    25.08.2024    FALSE            NaN          mix-breed  female     False  \n",
       "21    24.08.2024    FALSE            NaN          mix-breed    male     False  \n",
       "22    17.08.2024    FALSE            NaN          Pit Bull     male      True  \n",
       "23    12.07.2024     TRUE     15.07.2024          mix-breed    male      True  \n",
       "24    12.07.2024    FALSE            NaN          mix-breed  female      True  \n",
       "25    06.07.2024    FALSE            NaN          mix-breed    male      True  \n",
       "26    27.06.2024     TRUE     16.07.2024          mix-breed    male      True  \n",
       "27    23.06.2024    FALSE            NaN        St. Bernard  female     False  \n",
       "28    23.06.2024    FALSE            NaN          mix-breed    male     False  \n",
       "29    16.06.2024    FALSE            NaN          mix-breed    male      True  "
      ]
     },
     "execution_count": 3617,
     "metadata": {},
     "output_type": "execute_result"
    }
   ],
   "source": [
    "# Quick look at the first rows of data\n",
    "df.head(30)"
   ]
  },
  {
   "cell_type": "code",
   "execution_count": 3618,
   "id": "bf75eed0-bccf-4d1e-9f21-53b36d28fdce",
   "metadata": {},
   "outputs": [
    {
     "name": "stdout",
     "output_type": "stream",
     "text": [
      "<class 'pandas.core.frame.DataFrame'>\n",
      "RangeIndex: 709 entries, 0 to 708\n",
      "Data columns (total 11 columns):\n",
      " #   Column            Non-Null Count  Dtype \n",
      "---  ------            --------------  ----- \n",
      " 0   Name              709 non-null    object\n",
      " 1   Reference Number  707 non-null    object\n",
      " 2   Arrival Date      708 non-null    object\n",
      " 3   Age when adopted  689 non-null    object\n",
      " 4   Weight in kg      707 non-null    object\n",
      " 5   Adoption Date     709 non-null    object\n",
      " 6   Returned          709 non-null    object\n",
      " 7   Date of return    41 non-null     object\n",
      " 8   Breed             707 non-null    object\n",
      " 9   Gender            708 non-null    object\n",
      " 10  Black fur         680 non-null    object\n",
      "dtypes: object(11)\n",
      "memory usage: 61.1+ KB\n"
     ]
    }
   ],
   "source": [
    "# Check column names, data types and the number of non-null values\n",
    "df.info()"
   ]
  },
  {
   "cell_type": "code",
   "execution_count": 3619,
   "id": "a793a6fb-d2de-41be-8aaa-7925294a6020",
   "metadata": {},
   "outputs": [],
   "source": [
    "# Change columns to lower case for better readability\n",
    "df.columns=df.columns.str.lower()"
   ]
  },
  {
   "cell_type": "markdown",
   "id": "e4e73694-5800-4db6-a61a-f12f0df7d724",
   "metadata": {},
   "source": [
    "# Missing values"
   ]
  },
  {
   "cell_type": "code",
   "execution_count": 3621,
   "id": "d715c062-f4dd-4977-b294-c8558a14107a",
   "metadata": {
    "scrolled": true
   },
   "outputs": [
    {
     "data": {
      "text/plain": [
       "name                  0\n",
       "reference number      2\n",
       "arrival date          1\n",
       "age when adopted     20\n",
       "weight in kg          2\n",
       "adoption date         0\n",
       "returned              0\n",
       "date of return      668\n",
       "breed                 2\n",
       "gender                1\n",
       "black fur            29\n",
       "dtype: int64"
      ]
     },
     "execution_count": 3621,
     "metadata": {},
     "output_type": "execute_result"
    }
   ],
   "source": [
    "# First let's find the number of missing values\n",
    "df.isnull().sum()"
   ]
  },
  {
   "cell_type": "markdown",
   "id": "7abde133-2178-4ad2-8b05-bc903a689298",
   "metadata": {},
   "source": [
    "#### date of return"
   ]
  },
  {
   "cell_type": "code",
   "execution_count": 3623,
   "id": "93f2c90a-eabc-406f-afa2-1862e346d409",
   "metadata": {},
   "outputs": [],
   "source": [
    "# There are many missing values in the 'date of return' column. However it's not wrong, since only some\n",
    "# of the dogs have been returned. If the dog hasn't been returned, then obviously value for 'date of return' will be empty. "
   ]
  },
  {
   "cell_type": "markdown",
   "id": "3c8f3b86-bbc2-4e56-8329-c409c4fc510e",
   "metadata": {},
   "source": [
    "#### reference number"
   ]
  },
  {
   "cell_type": "code",
   "execution_count": 3625,
   "id": "f5267d50-e5bb-4cfe-8466-ea5dde45dafb",
   "metadata": {},
   "outputs": [],
   "source": [
    "# This number is an internal way to identify a dog in the shelter. It's not valuable and needed for the data analysis, so we don't need \n",
    "# to worry about any missing values in this column. In fact, we can remove this column to avoid any confusion later.\n",
    "df = df.drop('reference number', axis=1)"
   ]
  },
  {
   "cell_type": "markdown",
   "id": "14875e33-85d8-4ec0-949e-9b498a405b62",
   "metadata": {},
   "source": [
    "#### age when adopted"
   ]
  },
  {
   "cell_type": "code",
   "execution_count": 3627,
   "id": "583e3b2f-3d78-4c9b-ba12-a624efd72597",
   "metadata": {},
   "outputs": [
    {
     "data": {
      "text/html": [
       "<div>\n",
       "<style scoped>\n",
       "    .dataframe tbody tr th:only-of-type {\n",
       "        vertical-align: middle;\n",
       "    }\n",
       "\n",
       "    .dataframe tbody tr th {\n",
       "        vertical-align: top;\n",
       "    }\n",
       "\n",
       "    .dataframe thead th {\n",
       "        text-align: right;\n",
       "    }\n",
       "</style>\n",
       "<table border=\"1\" class=\"dataframe\">\n",
       "  <thead>\n",
       "    <tr style=\"text-align: right;\">\n",
       "      <th></th>\n",
       "      <th>name</th>\n",
       "      <th>arrival date</th>\n",
       "      <th>age when adopted</th>\n",
       "      <th>weight in kg</th>\n",
       "      <th>adoption date</th>\n",
       "      <th>returned</th>\n",
       "      <th>date of return</th>\n",
       "      <th>breed</th>\n",
       "      <th>gender</th>\n",
       "      <th>black fur</th>\n",
       "    </tr>\n",
       "  </thead>\n",
       "  <tbody>\n",
       "    <tr>\n",
       "      <th>0</th>\n",
       "      <td>Mimir</td>\n",
       "      <td>19.03.2024</td>\n",
       "      <td>9.0</td>\n",
       "      <td>52</td>\n",
       "      <td>01.02.2025</td>\n",
       "      <td>FALSE</td>\n",
       "      <td>NaN</td>\n",
       "      <td>Moscow Watchdog</td>\n",
       "      <td>male</td>\n",
       "      <td>False</td>\n",
       "    </tr>\n",
       "    <tr>\n",
       "      <th>1</th>\n",
       "      <td>Tarzan</td>\n",
       "      <td>03.09.2023</td>\n",
       "      <td>9.0</td>\n",
       "      <td>27</td>\n",
       "      <td>08.02.2025</td>\n",
       "      <td>FALSE</td>\n",
       "      <td>NaN</td>\n",
       "      <td>mix-breed</td>\n",
       "      <td>male</td>\n",
       "      <td>True</td>\n",
       "    </tr>\n",
       "    <tr>\n",
       "      <th>2</th>\n",
       "      <td>Ulfi</td>\n",
       "      <td>28.10.2024</td>\n",
       "      <td>3.0</td>\n",
       "      <td>19</td>\n",
       "      <td>15.02.2025</td>\n",
       "      <td>FALSE</td>\n",
       "      <td>NaN</td>\n",
       "      <td>mix-breed</td>\n",
       "      <td>male</td>\n",
       "      <td>False</td>\n",
       "    </tr>\n",
       "    <tr>\n",
       "      <th>3</th>\n",
       "      <td>Serek</td>\n",
       "      <td>18.12.2024</td>\n",
       "      <td>9.0</td>\n",
       "      <td>8</td>\n",
       "      <td>25.01.2025</td>\n",
       "      <td>FALSE</td>\n",
       "      <td>NaN</td>\n",
       "      <td>Yorkshire Terrier</td>\n",
       "      <td>male</td>\n",
       "      <td>False</td>\n",
       "    </tr>\n",
       "    <tr>\n",
       "      <th>4</th>\n",
       "      <td>Thor</td>\n",
       "      <td>09.11.2024</td>\n",
       "      <td>2.0</td>\n",
       "      <td>25</td>\n",
       "      <td>17.01.2025</td>\n",
       "      <td>FALSE</td>\n",
       "      <td>NaN</td>\n",
       "      <td>Amstaff</td>\n",
       "      <td>male</td>\n",
       "      <td>True</td>\n",
       "    </tr>\n",
       "    <tr>\n",
       "      <th>5</th>\n",
       "      <td>Amigo</td>\n",
       "      <td>12.08.2024</td>\n",
       "      <td>2.0</td>\n",
       "      <td>5</td>\n",
       "      <td>13.12.2024</td>\n",
       "      <td>FALSE</td>\n",
       "      <td>NaN</td>\n",
       "      <td>mix-breed</td>\n",
       "      <td>male</td>\n",
       "      <td>False</td>\n",
       "    </tr>\n",
       "    <tr>\n",
       "      <th>6</th>\n",
       "      <td>Serek</td>\n",
       "      <td>04.11.2024</td>\n",
       "      <td>9.0</td>\n",
       "      <td>8</td>\n",
       "      <td>07.12.2024</td>\n",
       "      <td>TRUE</td>\n",
       "      <td>18.12.2024</td>\n",
       "      <td>Yorkshire Terrier</td>\n",
       "      <td>male</td>\n",
       "      <td>False</td>\n",
       "    </tr>\n",
       "    <tr>\n",
       "      <th>7</th>\n",
       "      <td>Lorek</td>\n",
       "      <td>11.06.2023</td>\n",
       "      <td>2.0</td>\n",
       "      <td>22</td>\n",
       "      <td>25.11.2024</td>\n",
       "      <td>FALSE</td>\n",
       "      <td>NaN</td>\n",
       "      <td>mix-breed</td>\n",
       "      <td>male</td>\n",
       "      <td>False</td>\n",
       "    </tr>\n",
       "    <tr>\n",
       "      <th>8</th>\n",
       "      <td>Nocka</td>\n",
       "      <td>01.11.2024</td>\n",
       "      <td>4.0</td>\n",
       "      <td>11</td>\n",
       "      <td>23.11.2024</td>\n",
       "      <td>FALSE</td>\n",
       "      <td>NaN</td>\n",
       "      <td>mix-breed</td>\n",
       "      <td>female</td>\n",
       "      <td>False</td>\n",
       "    </tr>\n",
       "    <tr>\n",
       "      <th>9</th>\n",
       "      <td>Vadim</td>\n",
       "      <td>15.01.2024</td>\n",
       "      <td>7.0</td>\n",
       "      <td>27</td>\n",
       "      <td>16.11.2024</td>\n",
       "      <td>FALSE</td>\n",
       "      <td>NaN</td>\n",
       "      <td>mix-breed</td>\n",
       "      <td>male</td>\n",
       "      <td>True</td>\n",
       "    </tr>\n",
       "    <tr>\n",
       "      <th>10</th>\n",
       "      <td>Smerfuś</td>\n",
       "      <td>23.07.2024</td>\n",
       "      <td>0.7</td>\n",
       "      <td>14</td>\n",
       "      <td>12.11.2024</td>\n",
       "      <td>FALSE</td>\n",
       "      <td>NaN</td>\n",
       "      <td>mix-breed</td>\n",
       "      <td>male</td>\n",
       "      <td>True</td>\n",
       "    </tr>\n",
       "    <tr>\n",
       "      <th>11</th>\n",
       "      <td>Sato</td>\n",
       "      <td>20.02.2024</td>\n",
       "      <td>1.0</td>\n",
       "      <td>23</td>\n",
       "      <td>12.11.2024</td>\n",
       "      <td>FALSE</td>\n",
       "      <td>NaN</td>\n",
       "      <td>mix-breed</td>\n",
       "      <td>male</td>\n",
       "      <td>True</td>\n",
       "    </tr>\n",
       "    <tr>\n",
       "      <th>12</th>\n",
       "      <td>Misza</td>\n",
       "      <td>28.07.2024</td>\n",
       "      <td>0.9</td>\n",
       "      <td>9</td>\n",
       "      <td>19.10.2024</td>\n",
       "      <td>FALSE</td>\n",
       "      <td>NaN</td>\n",
       "      <td>mix-breed</td>\n",
       "      <td>female</td>\n",
       "      <td>True</td>\n",
       "    </tr>\n",
       "    <tr>\n",
       "      <th>13</th>\n",
       "      <td>Goldi</td>\n",
       "      <td>06.10.2024</td>\n",
       "      <td>8.0</td>\n",
       "      <td>24,5</td>\n",
       "      <td>13.10.2024</td>\n",
       "      <td>FALSE</td>\n",
       "      <td>NaN</td>\n",
       "      <td>mix-breed</td>\n",
       "      <td>male</td>\n",
       "      <td>False</td>\n",
       "    </tr>\n",
       "    <tr>\n",
       "      <th>14</th>\n",
       "      <td>Fendi</td>\n",
       "      <td>24.08.2024</td>\n",
       "      <td>2.0</td>\n",
       "      <td>10</td>\n",
       "      <td>05.10.2024</td>\n",
       "      <td>FALSE</td>\n",
       "      <td>NaN</td>\n",
       "      <td>mix-breed</td>\n",
       "      <td>female</td>\n",
       "      <td>False</td>\n",
       "    </tr>\n",
       "    <tr>\n",
       "      <th>15</th>\n",
       "      <td>Diament</td>\n",
       "      <td>24.08.2024</td>\n",
       "      <td>3.0</td>\n",
       "      <td>13</td>\n",
       "      <td>30.09.2024</td>\n",
       "      <td>FALSE</td>\n",
       "      <td>NaN</td>\n",
       "      <td>mix-breed</td>\n",
       "      <td>male</td>\n",
       "      <td>True</td>\n",
       "    </tr>\n",
       "    <tr>\n",
       "      <th>16</th>\n",
       "      <td>Tola</td>\n",
       "      <td>03.08.2024</td>\n",
       "      <td>0.7</td>\n",
       "      <td>8</td>\n",
       "      <td>27.09.2024</td>\n",
       "      <td>FALSE</td>\n",
       "      <td>NaN</td>\n",
       "      <td>mix-breed</td>\n",
       "      <td>female</td>\n",
       "      <td>True</td>\n",
       "    </tr>\n",
       "    <tr>\n",
       "      <th>17</th>\n",
       "      <td>Libia</td>\n",
       "      <td>24.04.2023</td>\n",
       "      <td>2.0</td>\n",
       "      <td>36</td>\n",
       "      <td>14.09.2024</td>\n",
       "      <td>FALSE</td>\n",
       "      <td>NaN</td>\n",
       "      <td>mix-breed</td>\n",
       "      <td>female</td>\n",
       "      <td>True</td>\n",
       "    </tr>\n",
       "    <tr>\n",
       "      <th>18</th>\n",
       "      <td>Figaro</td>\n",
       "      <td>15.07.2024</td>\n",
       "      <td>1.0</td>\n",
       "      <td>9</td>\n",
       "      <td>09.09.2024</td>\n",
       "      <td>FALSE</td>\n",
       "      <td>NaN</td>\n",
       "      <td>mix-breed</td>\n",
       "      <td>male</td>\n",
       "      <td>False</td>\n",
       "    </tr>\n",
       "    <tr>\n",
       "      <th>19</th>\n",
       "      <td>Gloria</td>\n",
       "      <td>07.03.2024</td>\n",
       "      <td>9.0</td>\n",
       "      <td>14</td>\n",
       "      <td>07.09.2024</td>\n",
       "      <td>FALSE</td>\n",
       "      <td>NaN</td>\n",
       "      <td>mix-breed</td>\n",
       "      <td>female</td>\n",
       "      <td>True</td>\n",
       "    </tr>\n",
       "    <tr>\n",
       "      <th>20</th>\n",
       "      <td>Milka</td>\n",
       "      <td>14.07.2024</td>\n",
       "      <td>1.0</td>\n",
       "      <td>12</td>\n",
       "      <td>25.08.2024</td>\n",
       "      <td>FALSE</td>\n",
       "      <td>NaN</td>\n",
       "      <td>mix-breed</td>\n",
       "      <td>female</td>\n",
       "      <td>False</td>\n",
       "    </tr>\n",
       "    <tr>\n",
       "      <th>21</th>\n",
       "      <td>Dyzio</td>\n",
       "      <td>16.07.2024</td>\n",
       "      <td>1.0</td>\n",
       "      <td>7</td>\n",
       "      <td>24.08.2024</td>\n",
       "      <td>FALSE</td>\n",
       "      <td>NaN</td>\n",
       "      <td>mix-breed</td>\n",
       "      <td>male</td>\n",
       "      <td>False</td>\n",
       "    </tr>\n",
       "    <tr>\n",
       "      <th>22</th>\n",
       "      <td>Tyrs</td>\n",
       "      <td>19.04.2024</td>\n",
       "      <td>2.0</td>\n",
       "      <td>24</td>\n",
       "      <td>17.08.2024</td>\n",
       "      <td>FALSE</td>\n",
       "      <td>NaN</td>\n",
       "      <td>Pit Bull</td>\n",
       "      <td>male</td>\n",
       "      <td>True</td>\n",
       "    </tr>\n",
       "    <tr>\n",
       "      <th>23</th>\n",
       "      <td>Maksio</td>\n",
       "      <td>20.02.2024</td>\n",
       "      <td>1.0</td>\n",
       "      <td>20</td>\n",
       "      <td>12.07.2024</td>\n",
       "      <td>TRUE</td>\n",
       "      <td>15.07.2024</td>\n",
       "      <td>mix-breed</td>\n",
       "      <td>male</td>\n",
       "      <td>True</td>\n",
       "    </tr>\n",
       "    <tr>\n",
       "      <th>24</th>\n",
       "      <td>Xena</td>\n",
       "      <td>16.03.2024</td>\n",
       "      <td>1.0</td>\n",
       "      <td>14</td>\n",
       "      <td>12.07.2024</td>\n",
       "      <td>FALSE</td>\n",
       "      <td>NaN</td>\n",
       "      <td>mix-breed</td>\n",
       "      <td>female</td>\n",
       "      <td>True</td>\n",
       "    </tr>\n",
       "    <tr>\n",
       "      <th>25</th>\n",
       "      <td>Lolo</td>\n",
       "      <td>29.03.2024</td>\n",
       "      <td>3.0</td>\n",
       "      <td>29</td>\n",
       "      <td>06.07.2024</td>\n",
       "      <td>FALSE</td>\n",
       "      <td>NaN</td>\n",
       "      <td>mix-breed</td>\n",
       "      <td>male</td>\n",
       "      <td>True</td>\n",
       "    </tr>\n",
       "    <tr>\n",
       "      <th>26</th>\n",
       "      <td>Guinness</td>\n",
       "      <td>05.03.2024</td>\n",
       "      <td>2.0</td>\n",
       "      <td>27</td>\n",
       "      <td>27.06.2024</td>\n",
       "      <td>TRUE</td>\n",
       "      <td>16.07.2024</td>\n",
       "      <td>mix-breed</td>\n",
       "      <td>male</td>\n",
       "      <td>True</td>\n",
       "    </tr>\n",
       "    <tr>\n",
       "      <th>27</th>\n",
       "      <td>Anuszka</td>\n",
       "      <td>20.01.2024</td>\n",
       "      <td>5.0</td>\n",
       "      <td>56</td>\n",
       "      <td>23.06.2024</td>\n",
       "      <td>FALSE</td>\n",
       "      <td>NaN</td>\n",
       "      <td>St. Bernard</td>\n",
       "      <td>female</td>\n",
       "      <td>False</td>\n",
       "    </tr>\n",
       "    <tr>\n",
       "      <th>28</th>\n",
       "      <td>Malaki</td>\n",
       "      <td>10.06.2023</td>\n",
       "      <td>7.0</td>\n",
       "      <td>41</td>\n",
       "      <td>23.06.2024</td>\n",
       "      <td>FALSE</td>\n",
       "      <td>NaN</td>\n",
       "      <td>mix-breed</td>\n",
       "      <td>male</td>\n",
       "      <td>False</td>\n",
       "    </tr>\n",
       "    <tr>\n",
       "      <th>29</th>\n",
       "      <td>Forrest</td>\n",
       "      <td>01.07.2023</td>\n",
       "      <td>11.0</td>\n",
       "      <td>21</td>\n",
       "      <td>16.06.2024</td>\n",
       "      <td>FALSE</td>\n",
       "      <td>NaN</td>\n",
       "      <td>mix-breed</td>\n",
       "      <td>male</td>\n",
       "      <td>True</td>\n",
       "    </tr>\n",
       "  </tbody>\n",
       "</table>\n",
       "</div>"
      ],
      "text/plain": [
       "        name arrival date  age when adopted weight in kg adoption date  \\\n",
       "0      Mimir   19.03.2024               9.0           52    01.02.2025   \n",
       "1     Tarzan   03.09.2023               9.0           27    08.02.2025   \n",
       "2       Ulfi   28.10.2024               3.0           19    15.02.2025   \n",
       "3      Serek   18.12.2024               9.0            8    25.01.2025   \n",
       "4       Thor   09.11.2024               2.0           25    17.01.2025   \n",
       "5      Amigo   12.08.2024               2.0            5    13.12.2024   \n",
       "6      Serek   04.11.2024               9.0            8    07.12.2024   \n",
       "7      Lorek   11.06.2023               2.0           22    25.11.2024   \n",
       "8      Nocka   01.11.2024               4.0           11    23.11.2024   \n",
       "9      Vadim   15.01.2024               7.0           27    16.11.2024   \n",
       "10   Smerfuś   23.07.2024               0.7           14    12.11.2024   \n",
       "11      Sato   20.02.2024               1.0           23    12.11.2024   \n",
       "12     Misza   28.07.2024               0.9            9    19.10.2024   \n",
       "13     Goldi   06.10.2024               8.0         24,5    13.10.2024   \n",
       "14     Fendi   24.08.2024               2.0           10    05.10.2024   \n",
       "15   Diament   24.08.2024               3.0           13    30.09.2024   \n",
       "16      Tola   03.08.2024               0.7            8    27.09.2024   \n",
       "17     Libia   24.04.2023               2.0           36    14.09.2024   \n",
       "18    Figaro   15.07.2024               1.0            9    09.09.2024   \n",
       "19    Gloria   07.03.2024               9.0           14    07.09.2024   \n",
       "20     Milka   14.07.2024               1.0           12    25.08.2024   \n",
       "21     Dyzio   16.07.2024               1.0            7    24.08.2024   \n",
       "22      Tyrs   19.04.2024               2.0           24    17.08.2024   \n",
       "23    Maksio   20.02.2024               1.0           20    12.07.2024   \n",
       "24      Xena   16.03.2024               1.0           14    12.07.2024   \n",
       "25      Lolo   29.03.2024               3.0           29    06.07.2024   \n",
       "26  Guinness   05.03.2024               2.0           27    27.06.2024   \n",
       "27   Anuszka   20.01.2024               5.0           56    23.06.2024   \n",
       "28    Malaki   10.06.2023               7.0           41    23.06.2024   \n",
       "29   Forrest   01.07.2023              11.0           21    16.06.2024   \n",
       "\n",
       "   returned date of return              breed  gender black fur  \n",
       "0     FALSE            NaN    Moscow Watchdog    male     False  \n",
       "1     FALSE            NaN          mix-breed    male      True  \n",
       "2     FALSE            NaN          mix-breed    male     False  \n",
       "3     FALSE            NaN  Yorkshire Terrier    male     False  \n",
       "4     FALSE            NaN            Amstaff    male      True  \n",
       "5     FALSE            NaN          mix-breed    male     False  \n",
       "6      TRUE     18.12.2024  Yorkshire Terrier    male     False  \n",
       "7     FALSE            NaN          mix-breed    male     False  \n",
       "8     FALSE            NaN          mix-breed  female     False  \n",
       "9     FALSE            NaN          mix-breed    male      True  \n",
       "10    FALSE            NaN          mix-breed    male      True  \n",
       "11    FALSE            NaN          mix-breed    male      True  \n",
       "12    FALSE            NaN          mix-breed  female      True  \n",
       "13    FALSE            NaN          mix-breed    male     False  \n",
       "14    FALSE            NaN          mix-breed  female     False  \n",
       "15    FALSE            NaN          mix-breed    male      True  \n",
       "16    FALSE            NaN          mix-breed  female      True  \n",
       "17    FALSE            NaN          mix-breed  female      True  \n",
       "18    FALSE            NaN          mix-breed    male     False  \n",
       "19    FALSE            NaN          mix-breed  female      True  \n",
       "20    FALSE            NaN          mix-breed  female     False  \n",
       "21    FALSE            NaN          mix-breed    male     False  \n",
       "22    FALSE            NaN          Pit Bull     male      True  \n",
       "23     TRUE     15.07.2024          mix-breed    male      True  \n",
       "24    FALSE            NaN          mix-breed  female      True  \n",
       "25    FALSE            NaN          mix-breed    male      True  \n",
       "26     TRUE     16.07.2024          mix-breed    male      True  \n",
       "27    FALSE            NaN        St. Bernard  female     False  \n",
       "28    FALSE            NaN          mix-breed    male     False  \n",
       "29    FALSE            NaN          mix-breed    male      True  "
      ]
     },
     "execution_count": 3627,
     "metadata": {},
     "output_type": "execute_result"
    }
   ],
   "source": [
    "# Let's fill out the missing values with mean values of this column. \n",
    "# First, we have to convert all values expressed in months to values expressed in years\n",
    "def convert_months_to_years(value):\n",
    "    if isinstance(value, str) and 'months' in value:\n",
    "        months = float(value.replace(' months', ''))  \n",
    "        return round(months / 12, 1) \n",
    "    return value \n",
    "\n",
    "# Applying the function to the 'age when adopted' column\n",
    "df['age when adopted'] = df['age when adopted'].apply(convert_months_to_years)\n",
    "\n",
    "# Changing type of the column to float\n",
    "df['age when adopted'] = pd.to_numeric(df['age when adopted'], errors='coerce')\n",
    "\n",
    "# Counting mean age\n",
    "mean_age = df['age when adopted'].mean()\n",
    "\n",
    "# Changing NaNs to mean\n",
    "df['age when adopted'] = df['age when adopted'].fillna(mean_age).round(1)\n",
    "\n",
    "# Take a look if it works\n",
    "df.head(30)"
   ]
  },
  {
   "cell_type": "markdown",
   "id": "3312f081-efe6-4b21-8c9d-8490b959a91f",
   "metadata": {},
   "source": [
    "#### black fur"
   ]
  },
  {
   "cell_type": "code",
   "execution_count": 3629,
   "id": "ab83d5fa-cd08-4504-bb2c-3bdcca5b8647",
   "metadata": {},
   "outputs": [],
   "source": [
    "# I will just get rid of the missing values in this column. \n",
    "df = df.dropna(subset=['black fur'])"
   ]
  },
  {
   "cell_type": "code",
   "execution_count": 3630,
   "id": "c7d4697a-ea27-43e6-81ae-47ad2efd25c6",
   "metadata": {},
   "outputs": [
    {
     "data": {
      "text/plain": [
       "name                  0\n",
       "arrival date          0\n",
       "age when adopted      0\n",
       "weight in kg          0\n",
       "adoption date         0\n",
       "returned              0\n",
       "date of return      639\n",
       "breed                 0\n",
       "gender                0\n",
       "black fur             0\n",
       "dtype: int64"
      ]
     },
     "execution_count": 3630,
     "metadata": {},
     "output_type": "execute_result"
    }
   ],
   "source": [
    "# Let's check if there are any missing values left apart from the ones in the 'date of return' column\n",
    "df.isnull().sum()"
   ]
  },
  {
   "cell_type": "markdown",
   "id": "124f2fbb-558d-45ee-8661-3d92855d9cc9",
   "metadata": {},
   "source": [
    "# Illogical values"
   ]
  },
  {
   "cell_type": "markdown",
   "id": "df62529c-bafb-4d13-ac34-1ae4a40ee298",
   "metadata": {},
   "source": [
    "#### returned & date of return"
   ]
  },
  {
   "cell_type": "code",
   "execution_count": 3633,
   "id": "61efb2aa-92a7-4af9-9435-0ca963e477db",
   "metadata": {},
   "outputs": [
    {
     "data": {
      "text/html": [
       "<div>\n",
       "<style scoped>\n",
       "    .dataframe tbody tr th:only-of-type {\n",
       "        vertical-align: middle;\n",
       "    }\n",
       "\n",
       "    .dataframe tbody tr th {\n",
       "        vertical-align: top;\n",
       "    }\n",
       "\n",
       "    .dataframe thead th {\n",
       "        text-align: right;\n",
       "    }\n",
       "</style>\n",
       "<table border=\"1\" class=\"dataframe\">\n",
       "  <thead>\n",
       "    <tr style=\"text-align: right;\">\n",
       "      <th></th>\n",
       "      <th>name</th>\n",
       "      <th>arrival date</th>\n",
       "      <th>age when adopted</th>\n",
       "      <th>weight in kg</th>\n",
       "      <th>adoption date</th>\n",
       "      <th>returned</th>\n",
       "      <th>date of return</th>\n",
       "      <th>breed</th>\n",
       "      <th>gender</th>\n",
       "      <th>black fur</th>\n",
       "    </tr>\n",
       "  </thead>\n",
       "  <tbody>\n",
       "    <tr>\n",
       "      <th>362</th>\n",
       "      <td>Gaj</td>\n",
       "      <td>25.02.2022</td>\n",
       "      <td>1.0</td>\n",
       "      <td>13</td>\n",
       "      <td>27.04.2022</td>\n",
       "      <td>TRUE</td>\n",
       "      <td>NaN</td>\n",
       "      <td>mix-breed</td>\n",
       "      <td>male</td>\n",
       "      <td>True</td>\n",
       "    </tr>\n",
       "    <tr>\n",
       "      <th>399</th>\n",
       "      <td>Sally</td>\n",
       "      <td>18.07.2021</td>\n",
       "      <td>8.0</td>\n",
       "      <td>15</td>\n",
       "      <td>05.11.2021</td>\n",
       "      <td>TRUE</td>\n",
       "      <td>NaN</td>\n",
       "      <td>mix-breed</td>\n",
       "      <td>female</td>\n",
       "      <td>False</td>\n",
       "    </tr>\n",
       "    <tr>\n",
       "      <th>475</th>\n",
       "      <td>Lonia</td>\n",
       "      <td>03.09.2020</td>\n",
       "      <td>4.0</td>\n",
       "      <td>14</td>\n",
       "      <td>23.10.2020</td>\n",
       "      <td>TRUE</td>\n",
       "      <td>NaN</td>\n",
       "      <td>mix-breed</td>\n",
       "      <td>male</td>\n",
       "      <td>False</td>\n",
       "    </tr>\n",
       "  </tbody>\n",
       "</table>\n",
       "</div>"
      ],
      "text/plain": [
       "      name arrival date  age when adopted weight in kg adoption date returned  \\\n",
       "362    Gaj   25.02.2022               1.0           13    27.04.2022     TRUE   \n",
       "399  Sally   18.07.2021               8.0           15    05.11.2021     TRUE   \n",
       "475  Lonia   03.09.2020               4.0           14    23.10.2020     TRUE   \n",
       "\n",
       "    date of return      breed  gender black fur  \n",
       "362            NaN  mix-breed    male      True  \n",
       "399            NaN  mix-breed  female     False  \n",
       "475            NaN  mix-breed    male     False  "
      ]
     },
     "execution_count": 3633,
     "metadata": {},
     "output_type": "execute_result"
    }
   ],
   "source": [
    "# Let's check if there are dogs which were returned but don't have any entry in the 'date of return' column.\n",
    "df[(df['returned'] =='TRUE') & (df['date of return'].isna())]"
   ]
  },
  {
   "cell_type": "code",
   "execution_count": 3634,
   "id": "88543a98-bdc3-4022-98b0-b30cbde297fb",
   "metadata": {},
   "outputs": [],
   "source": [
    "# It seems that are 3 cases where the date of return is missing, let's drop them. \n",
    "df = df[~((df['returned'] == 'TRUE') & (df['date of return'].isna()))]"
   ]
  },
  {
   "cell_type": "markdown",
   "id": "c7f00c81-5bd5-4db4-8366-95a7d7f6813a",
   "metadata": {},
   "source": [
    "#### weight in kg\n"
   ]
  },
  {
   "cell_type": "code",
   "execution_count": 3636,
   "id": "136ec068-9790-45a3-9dda-ccba421e4965",
   "metadata": {},
   "outputs": [
    {
     "data": {
      "text/html": [
       "<div>\n",
       "<style scoped>\n",
       "    .dataframe tbody tr th:only-of-type {\n",
       "        vertical-align: middle;\n",
       "    }\n",
       "\n",
       "    .dataframe tbody tr th {\n",
       "        vertical-align: top;\n",
       "    }\n",
       "\n",
       "    .dataframe thead th {\n",
       "        text-align: right;\n",
       "    }\n",
       "</style>\n",
       "<table border=\"1\" class=\"dataframe\">\n",
       "  <thead>\n",
       "    <tr style=\"text-align: right;\">\n",
       "      <th></th>\n",
       "      <th>name</th>\n",
       "      <th>arrival date</th>\n",
       "      <th>age when adopted</th>\n",
       "      <th>weight in kg</th>\n",
       "      <th>adoption date</th>\n",
       "      <th>returned</th>\n",
       "      <th>date of return</th>\n",
       "      <th>breed</th>\n",
       "      <th>gender</th>\n",
       "      <th>black fur</th>\n",
       "    </tr>\n",
       "  </thead>\n",
       "  <tbody>\n",
       "    <tr>\n",
       "      <th>157</th>\n",
       "      <td>Rozmaryn</td>\n",
       "      <td>24.05.2023</td>\n",
       "      <td>6.0</td>\n",
       "      <td>0</td>\n",
       "      <td>11.07.2023</td>\n",
       "      <td>FALSE</td>\n",
       "      <td>NaN</td>\n",
       "      <td>mix-breed</td>\n",
       "      <td>male</td>\n",
       "      <td>False</td>\n",
       "    </tr>\n",
       "    <tr>\n",
       "      <th>237</th>\n",
       "      <td>Lorka</td>\n",
       "      <td>26.12.2022</td>\n",
       "      <td>4.0</td>\n",
       "      <td>0</td>\n",
       "      <td>23.02.2023</td>\n",
       "      <td>FALSE</td>\n",
       "      <td>NaN</td>\n",
       "      <td>Pekingese</td>\n",
       "      <td>female</td>\n",
       "      <td>False</td>\n",
       "    </tr>\n",
       "  </tbody>\n",
       "</table>\n",
       "</div>"
      ],
      "text/plain": [
       "         name arrival date  age when adopted weight in kg adoption date  \\\n",
       "157  Rozmaryn   24.05.2023               6.0            0    11.07.2023   \n",
       "237     Lorka   26.12.2022               4.0            0    23.02.2023   \n",
       "\n",
       "    returned date of return      breed  gender black fur  \n",
       "157    FALSE            NaN  mix-breed    male     False  \n",
       "237    FALSE            NaN  Pekingese  female     False  "
      ]
     },
     "execution_count": 3636,
     "metadata": {},
     "output_type": "execute_result"
    }
   ],
   "source": [
    "df[df['weight in kg'] == '0']"
   ]
  },
  {
   "cell_type": "code",
   "execution_count": 3637,
   "id": "f8450fd1-8587-4d58-a056-4f0e8e39e774",
   "metadata": {},
   "outputs": [],
   "source": [
    "# Let's drop these rows\n",
    "df = df[~(df['weight in kg'] == '0')]"
   ]
  },
  {
   "cell_type": "markdown",
   "id": "bab58e33-f53e-4586-9220-81d6db011094",
   "metadata": {},
   "source": [
    "#### age when adopted"
   ]
  },
  {
   "cell_type": "code",
   "execution_count": 3639,
   "id": "316b0a0e-6027-4f75-be68-e0376034902f",
   "metadata": {},
   "outputs": [
    {
     "data": {
      "text/html": [
       "<div>\n",
       "<style scoped>\n",
       "    .dataframe tbody tr th:only-of-type {\n",
       "        vertical-align: middle;\n",
       "    }\n",
       "\n",
       "    .dataframe tbody tr th {\n",
       "        vertical-align: top;\n",
       "    }\n",
       "\n",
       "    .dataframe thead th {\n",
       "        text-align: right;\n",
       "    }\n",
       "</style>\n",
       "<table border=\"1\" class=\"dataframe\">\n",
       "  <thead>\n",
       "    <tr style=\"text-align: right;\">\n",
       "      <th></th>\n",
       "      <th>name</th>\n",
       "      <th>arrival date</th>\n",
       "      <th>age when adopted</th>\n",
       "      <th>weight in kg</th>\n",
       "      <th>adoption date</th>\n",
       "      <th>returned</th>\n",
       "      <th>date of return</th>\n",
       "      <th>breed</th>\n",
       "      <th>gender</th>\n",
       "      <th>black fur</th>\n",
       "    </tr>\n",
       "  </thead>\n",
       "  <tbody>\n",
       "    <tr>\n",
       "      <th>552</th>\n",
       "      <td>Szostu</td>\n",
       "      <td>27.07.2019</td>\n",
       "      <td>0.0</td>\n",
       "      <td>12</td>\n",
       "      <td>03.11.2019</td>\n",
       "      <td>FALSE</td>\n",
       "      <td>NaN</td>\n",
       "      <td>mix-breed</td>\n",
       "      <td>male</td>\n",
       "      <td>False</td>\n",
       "    </tr>\n",
       "    <tr>\n",
       "      <th>581</th>\n",
       "      <td>Arbuz</td>\n",
       "      <td>23.05.2019</td>\n",
       "      <td>0.0</td>\n",
       "      <td>9</td>\n",
       "      <td>06.07.2019</td>\n",
       "      <td>FALSE</td>\n",
       "      <td>NaN</td>\n",
       "      <td>mix-breed</td>\n",
       "      <td>male</td>\n",
       "      <td>True</td>\n",
       "    </tr>\n",
       "    <tr>\n",
       "      <th>615</th>\n",
       "      <td>Ginger</td>\n",
       "      <td>01.01.2019</td>\n",
       "      <td>0.0</td>\n",
       "      <td>8</td>\n",
       "      <td>08.02.2019</td>\n",
       "      <td>FALSE</td>\n",
       "      <td>NaN</td>\n",
       "      <td>mix-breed</td>\n",
       "      <td>female</td>\n",
       "      <td>False</td>\n",
       "    </tr>\n",
       "    <tr>\n",
       "      <th>659</th>\n",
       "      <td>Nox</td>\n",
       "      <td>30.06.2018</td>\n",
       "      <td>0.0</td>\n",
       "      <td>19</td>\n",
       "      <td>04.08.2018</td>\n",
       "      <td>FALSE</td>\n",
       "      <td>NaN</td>\n",
       "      <td>mix-breed</td>\n",
       "      <td>female</td>\n",
       "      <td>True</td>\n",
       "    </tr>\n",
       "    <tr>\n",
       "      <th>665</th>\n",
       "      <td>Olaf</td>\n",
       "      <td>04.06.2018</td>\n",
       "      <td>0.0</td>\n",
       "      <td>7</td>\n",
       "      <td>13.07.2018</td>\n",
       "      <td>FALSE</td>\n",
       "      <td>NaN</td>\n",
       "      <td>mix-breed</td>\n",
       "      <td>male</td>\n",
       "      <td>True</td>\n",
       "    </tr>\n",
       "  </tbody>\n",
       "</table>\n",
       "</div>"
      ],
      "text/plain": [
       "       name arrival date  age when adopted weight in kg adoption date  \\\n",
       "552  Szostu   27.07.2019               0.0           12    03.11.2019   \n",
       "581   Arbuz   23.05.2019               0.0            9    06.07.2019   \n",
       "615  Ginger   01.01.2019               0.0            8    08.02.2019   \n",
       "659     Nox   30.06.2018               0.0           19    04.08.2018   \n",
       "665    Olaf   04.06.2018               0.0            7    13.07.2018   \n",
       "\n",
       "    returned date of return      breed  gender black fur  \n",
       "552    FALSE            NaN  mix-breed    male     False  \n",
       "581    FALSE            NaN  mix-breed    male      True  \n",
       "615    FALSE            NaN  mix-breed  female     False  \n",
       "659    FALSE            NaN  mix-breed  female      True  \n",
       "665    FALSE            NaN  mix-breed    male      True  "
      ]
     },
     "execution_count": 3639,
     "metadata": {},
     "output_type": "execute_result"
    }
   ],
   "source": [
    "df[df['age when adopted'] == 0]"
   ]
  },
  {
   "cell_type": "code",
   "execution_count": 3640,
   "id": "d3eaa2f3-4ad1-42ba-9df4-1fedcbfc96b8",
   "metadata": {},
   "outputs": [],
   "source": [
    "# Let's fill those rows out with mean as we did with missing values previously\n",
    "df.loc[df['age when adopted'] == 0, 'age when adopted'] = mean_age.round(1)"
   ]
  },
  {
   "cell_type": "markdown",
   "id": "2e368c61-2e4b-4c88-93df-4586dca714e1",
   "metadata": {},
   "source": [
    "# Transforming data"
   ]
  },
  {
   "cell_type": "markdown",
   "id": "ff4afe3a-a97b-484f-b395-3745edb84a99",
   "metadata": {},
   "source": [
    "#### black fur"
   ]
  },
  {
   "cell_type": "code",
   "execution_count": 3643,
   "id": "57853608-a6c1-42d8-aa19-881e5b765f66",
   "metadata": {},
   "outputs": [],
   "source": [
    "# Let's change the data type to categorical: 1=black fur, 0=other color\n",
    "df['black fur'] =df['black fur'].astype(int)"
   ]
  },
  {
   "cell_type": "markdown",
   "id": "2987e5af-1c2f-413c-a761-4fdacaf8868b",
   "metadata": {},
   "source": [
    "#### weight in kg"
   ]
  },
  {
   "cell_type": "code",
   "execution_count": 3645,
   "id": "531b014a-bf16-4e8f-9537-b7e51df18248",
   "metadata": {},
   "outputs": [],
   "source": [
    "# Let's change the data type to float as well as change the separator\n",
    "df['weight in kg'] = df['weight in kg'].astype(str).str.replace(',', '.').astype(float)"
   ]
  },
  {
   "cell_type": "markdown",
   "id": "d408ae73-9f72-477c-bfa9-be0e43c37beb",
   "metadata": {},
   "source": [
    "#### breed"
   ]
  },
  {
   "cell_type": "code",
   "execution_count": 3647,
   "id": "5e8da863-0415-487c-b7f8-99d483e1be5d",
   "metadata": {},
   "outputs": [
    {
     "data": {
      "text/plain": [
       "breed\n",
       "mix-breed                      614\n",
       "Yorkshire Terrier                9\n",
       "German Shepherd                  8\n",
       "Fox Terrier                      4\n",
       "Beagle                           3\n",
       "Dachshund                        3\n",
       "Shih Tzu                         3\n",
       "Pinscher                         3\n",
       "English Cocker Spaniel           2\n",
       "Schnauzer                        2\n",
       "Terier                           2\n",
       "Welsh Terrier                    2\n",
       "Jagdterrier                      2\n",
       "Maltese                          2\n",
       "Caucasian Shepherd Dog           2\n",
       "Lhasa Apso                       1\n",
       "Poodle                           1\n",
       "Tatra Shepherd Dog               1\n",
       "Moscow Watchdog                  1\n",
       "Bavarian Mountain Hound          1\n",
       "Spaniel                          1\n",
       "West Highland White Terrier      1\n",
       "Pekingese                        1\n",
       "Greyhound                        1\n",
       "Boxer                            1\n",
       "St. Bernard                      1\n",
       "Pit Bull                         1\n",
       "Amstaff                          1\n",
       "Labrador                         1\n",
       "Name: count, dtype: int64"
      ]
     },
     "execution_count": 3647,
     "metadata": {},
     "output_type": "execute_result"
    }
   ],
   "source": [
    "df['breed'].value_counts()"
   ]
  },
  {
   "cell_type": "code",
   "execution_count": 3648,
   "id": "475fbc91-b93f-4fda-b576-6f800ef3785a",
   "metadata": {},
   "outputs": [],
   "source": [
    "# In my opinion, for the data analysis, it is not so important what exact breed a dog is, but whether it is a purebred or not. \n",
    "# Therefore, let's create a new categorical column which will indicate whether the dog is purebred or not.\n",
    "df['purebred'] = (df['breed'] != 'mix-breed').astype(bool)\n",
    "\n",
    "# One-hot encoding needed for later analysis.\n",
    "df['purebred']=df['purebred'].astype(int)\n",
    "\n",
    "# Now we can drop the 'breed' column. \n",
    "df = df.drop('breed', axis=1)"
   ]
  },
  {
   "cell_type": "markdown",
   "id": "1addeb81-add9-4ca2-8b46-c66139cca3bb",
   "metadata": {},
   "source": [
    "#### returned"
   ]
  },
  {
   "cell_type": "code",
   "execution_count": 3650,
   "id": "49afb20b-cda0-48f1-9e69-eaad4aa93cfa",
   "metadata": {
    "scrolled": true
   },
   "outputs": [],
   "source": [
    "# Let's change the data type to boolean.\n",
    "df['returned'] = (df['returned'] != 'FALSE').astype(bool)\n",
    "\n",
    "# One-hot encoding for standarization purposes: 1=dog was returned, 0=dog wasn't returned\n",
    "df['returned'] = df['returned'].astype(int)"
   ]
  },
  {
   "cell_type": "markdown",
   "id": "854a8ba7-e98b-452f-a5c2-5f4ce9bc7014",
   "metadata": {},
   "source": [
    "### gender"
   ]
  },
  {
   "cell_type": "code",
   "execution_count": 3659,
   "id": "01a3453b-935a-4fec-a2fa-29ab07cbd029",
   "metadata": {},
   "outputs": [],
   "source": [
    "# One-hot encoding needed for later analysis: 1=male dog, 0=female dog\n",
    "df['male'] = (df['gender'] != 'female').astype(bool)\n",
    "df['male']=df['male'].astype(int)\n",
    "\n",
    "# Now we can drop the 'gender' column. \n",
    "df = df.drop('gender', axis=1)"
   ]
  },
  {
   "cell_type": "markdown",
   "id": "f2d0b52f-73a2-4b25-a0bd-3bd7969f5ef2",
   "metadata": {},
   "source": [
    "#### date of return"
   ]
  },
  {
   "cell_type": "code",
   "execution_count": 3661,
   "id": "7576f9bd-3108-4905-b5b1-072d7567cbaf",
   "metadata": {},
   "outputs": [],
   "source": [
    "# Let's change the data type to datetime\n",
    "df['date of return'] = pd.to_datetime(df['date of return'], format='%d.%m.%Y')"
   ]
  },
  {
   "cell_type": "markdown",
   "id": "6881beb9-86ba-4bbc-9f96-a644a832df23",
   "metadata": {},
   "source": [
    "#### 'days in shelter' - new column"
   ]
  },
  {
   "cell_type": "code",
   "execution_count": 3666,
   "id": "49c07e5a-375b-406e-b08a-9d5ddf6d946a",
   "metadata": {},
   "outputs": [],
   "source": [
    "# Let's create a new column indicating how many days the dog spent in the shelter. \n",
    "# First let's change the data type of 'arrival date' and 'adoption date' to datetime\n",
    "df['arrival date'] = pd.to_datetime(df['arrival date'], format='%d.%m.%Y')\n",
    "df['adoption date'] = pd.to_datetime(df['adoption date'], format='%d.%m.%Y')"
   ]
  },
  {
   "cell_type": "code",
   "execution_count": 3672,
   "id": "044bef62-3d8d-4dfd-99bb-0984301a75d2",
   "metadata": {},
   "outputs": [
    {
     "data": {
      "text/html": [
       "<div>\n",
       "<style scoped>\n",
       "    .dataframe tbody tr th:only-of-type {\n",
       "        vertical-align: middle;\n",
       "    }\n",
       "\n",
       "    .dataframe tbody tr th {\n",
       "        vertical-align: top;\n",
       "    }\n",
       "\n",
       "    .dataframe thead th {\n",
       "        text-align: right;\n",
       "    }\n",
       "</style>\n",
       "<table border=\"1\" class=\"dataframe\">\n",
       "  <thead>\n",
       "    <tr style=\"text-align: right;\">\n",
       "      <th></th>\n",
       "      <th>name</th>\n",
       "      <th>arrival date</th>\n",
       "      <th>age when adopted</th>\n",
       "      <th>weight in kg</th>\n",
       "      <th>adoption date</th>\n",
       "      <th>returned</th>\n",
       "      <th>date of return</th>\n",
       "      <th>black fur</th>\n",
       "      <th>purebred</th>\n",
       "      <th>male</th>\n",
       "      <th>days in shelter</th>\n",
       "    </tr>\n",
       "  </thead>\n",
       "  <tbody>\n",
       "    <tr>\n",
       "      <th>0</th>\n",
       "      <td>Mimir</td>\n",
       "      <td>2024-03-19</td>\n",
       "      <td>9.0</td>\n",
       "      <td>52.0</td>\n",
       "      <td>2025-02-01</td>\n",
       "      <td>0</td>\n",
       "      <td>NaT</td>\n",
       "      <td>0</td>\n",
       "      <td>1</td>\n",
       "      <td>1</td>\n",
       "      <td>319</td>\n",
       "    </tr>\n",
       "    <tr>\n",
       "      <th>1</th>\n",
       "      <td>Tarzan</td>\n",
       "      <td>2023-09-03</td>\n",
       "      <td>9.0</td>\n",
       "      <td>27.0</td>\n",
       "      <td>2025-02-08</td>\n",
       "      <td>0</td>\n",
       "      <td>NaT</td>\n",
       "      <td>1</td>\n",
       "      <td>0</td>\n",
       "      <td>1</td>\n",
       "      <td>524</td>\n",
       "    </tr>\n",
       "    <tr>\n",
       "      <th>2</th>\n",
       "      <td>Ulfi</td>\n",
       "      <td>2024-10-28</td>\n",
       "      <td>3.0</td>\n",
       "      <td>19.0</td>\n",
       "      <td>2025-02-15</td>\n",
       "      <td>0</td>\n",
       "      <td>NaT</td>\n",
       "      <td>0</td>\n",
       "      <td>0</td>\n",
       "      <td>1</td>\n",
       "      <td>110</td>\n",
       "    </tr>\n",
       "    <tr>\n",
       "      <th>3</th>\n",
       "      <td>Serek</td>\n",
       "      <td>2024-12-18</td>\n",
       "      <td>9.0</td>\n",
       "      <td>8.0</td>\n",
       "      <td>2025-01-25</td>\n",
       "      <td>0</td>\n",
       "      <td>NaT</td>\n",
       "      <td>0</td>\n",
       "      <td>1</td>\n",
       "      <td>1</td>\n",
       "      <td>38</td>\n",
       "    </tr>\n",
       "    <tr>\n",
       "      <th>4</th>\n",
       "      <td>Thor</td>\n",
       "      <td>2024-11-09</td>\n",
       "      <td>2.0</td>\n",
       "      <td>25.0</td>\n",
       "      <td>2025-01-17</td>\n",
       "      <td>0</td>\n",
       "      <td>NaT</td>\n",
       "      <td>1</td>\n",
       "      <td>1</td>\n",
       "      <td>1</td>\n",
       "      <td>69</td>\n",
       "    </tr>\n",
       "  </tbody>\n",
       "</table>\n",
       "</div>"
      ],
      "text/plain": [
       "     name arrival date  age when adopted  weight in kg adoption date  \\\n",
       "0   Mimir   2024-03-19               9.0          52.0    2025-02-01   \n",
       "1  Tarzan   2023-09-03               9.0          27.0    2025-02-08   \n",
       "2    Ulfi   2024-10-28               3.0          19.0    2025-02-15   \n",
       "3   Serek   2024-12-18               9.0           8.0    2025-01-25   \n",
       "4    Thor   2024-11-09               2.0          25.0    2025-01-17   \n",
       "\n",
       "   returned date of return  black fur  purebred  male  days in shelter  \n",
       "0         0            NaT          0         1     1              319  \n",
       "1         0            NaT          1         0     1              524  \n",
       "2         0            NaT          0         0     1              110  \n",
       "3         0            NaT          0         1     1               38  \n",
       "4         0            NaT          1         1     1               69  "
      ]
     },
     "execution_count": 3672,
     "metadata": {},
     "output_type": "execute_result"
    }
   ],
   "source": [
    "# Now we can create the new column 'days in shelter'\n",
    "df['days in shelter'] = (df['adoption date'] - df['arrival date']).dt.days\n",
    "df.head()"
   ]
  },
  {
   "cell_type": "markdown",
   "id": "5b02c557-b127-4fc8-a3ce-dddef53fe82a",
   "metadata": {},
   "source": [
    "# Detecting outliers"
   ]
  },
  {
   "cell_type": "code",
   "execution_count": 3678,
   "id": "73040972-f836-4904-8885-2ac3ad31c66a",
   "metadata": {},
   "outputs": [
    {
     "data": {
      "text/html": [
       "<div>\n",
       "<style scoped>\n",
       "    .dataframe tbody tr th:only-of-type {\n",
       "        vertical-align: middle;\n",
       "    }\n",
       "\n",
       "    .dataframe tbody tr th {\n",
       "        vertical-align: top;\n",
       "    }\n",
       "\n",
       "    .dataframe thead th {\n",
       "        text-align: right;\n",
       "    }\n",
       "</style>\n",
       "<table border=\"1\" class=\"dataframe\">\n",
       "  <thead>\n",
       "    <tr style=\"text-align: right;\">\n",
       "      <th></th>\n",
       "      <th>age when adopted</th>\n",
       "      <th>weight in kg</th>\n",
       "      <th>days in shelter</th>\n",
       "    </tr>\n",
       "  </thead>\n",
       "  <tbody>\n",
       "    <tr>\n",
       "      <th>count</th>\n",
       "      <td>675.0</td>\n",
       "      <td>675.0</td>\n",
       "      <td>675.0</td>\n",
       "    </tr>\n",
       "    <tr>\n",
       "      <th>mean</th>\n",
       "      <td>3.1</td>\n",
       "      <td>13.6</td>\n",
       "      <td>89.6</td>\n",
       "    </tr>\n",
       "    <tr>\n",
       "      <th>std</th>\n",
       "      <td>2.6</td>\n",
       "      <td>7.3</td>\n",
       "      <td>159.7</td>\n",
       "    </tr>\n",
       "    <tr>\n",
       "      <th>min</th>\n",
       "      <td>0.2</td>\n",
       "      <td>3.0</td>\n",
       "      <td>7.0</td>\n",
       "    </tr>\n",
       "    <tr>\n",
       "      <th>25%</th>\n",
       "      <td>1.0</td>\n",
       "      <td>9.0</td>\n",
       "      <td>38.0</td>\n",
       "    </tr>\n",
       "    <tr>\n",
       "      <th>50%</th>\n",
       "      <td>2.0</td>\n",
       "      <td>12.0</td>\n",
       "      <td>53.0</td>\n",
       "    </tr>\n",
       "    <tr>\n",
       "      <th>75%</th>\n",
       "      <td>4.5</td>\n",
       "      <td>16.0</td>\n",
       "      <td>84.0</td>\n",
       "    </tr>\n",
       "    <tr>\n",
       "      <th>max</th>\n",
       "      <td>13.0</td>\n",
       "      <td>60.0</td>\n",
       "      <td>2850.0</td>\n",
       "    </tr>\n",
       "  </tbody>\n",
       "</table>\n",
       "</div>"
      ],
      "text/plain": [
       "       age when adopted  weight in kg  days in shelter\n",
       "count             675.0         675.0            675.0\n",
       "mean                3.1          13.6             89.6\n",
       "std                 2.6           7.3            159.7\n",
       "min                 0.2           3.0              7.0\n",
       "25%                 1.0           9.0             38.0\n",
       "50%                 2.0          12.0             53.0\n",
       "75%                 4.5          16.0             84.0\n",
       "max                13.0          60.0           2850.0"
      ]
     },
     "execution_count": 3678,
     "metadata": {},
     "output_type": "execute_result"
    }
   ],
   "source": [
    "df.iloc[:, [2, 3, 10]].describe().round(1)"
   ]
  },
  {
   "cell_type": "code",
   "execution_count": 3679,
   "id": "0eefc506-1fa7-4fac-b655-7c55c6e93852",
   "metadata": {},
   "outputs": [
    {
     "data": {
      "text/html": [
       "<div>\n",
       "<style scoped>\n",
       "    .dataframe tbody tr th:only-of-type {\n",
       "        vertical-align: middle;\n",
       "    }\n",
       "\n",
       "    .dataframe tbody tr th {\n",
       "        vertical-align: top;\n",
       "    }\n",
       "\n",
       "    .dataframe thead th {\n",
       "        text-align: right;\n",
       "    }\n",
       "</style>\n",
       "<table border=\"1\" class=\"dataframe\">\n",
       "  <thead>\n",
       "    <tr style=\"text-align: right;\">\n",
       "      <th></th>\n",
       "      <th>name</th>\n",
       "      <th>arrival date</th>\n",
       "      <th>age when adopted</th>\n",
       "      <th>weight in kg</th>\n",
       "      <th>adoption date</th>\n",
       "      <th>returned</th>\n",
       "      <th>date of return</th>\n",
       "      <th>black fur</th>\n",
       "      <th>purebred</th>\n",
       "      <th>male</th>\n",
       "      <th>days in shelter</th>\n",
       "    </tr>\n",
       "  </thead>\n",
       "  <tbody>\n",
       "    <tr>\n",
       "      <th>672</th>\n",
       "      <td>Bambi</td>\n",
       "      <td>2010-08-25</td>\n",
       "      <td>7.0</td>\n",
       "      <td>26.0</td>\n",
       "      <td>2018-06-14</td>\n",
       "      <td>0</td>\n",
       "      <td>NaT</td>\n",
       "      <td>1</td>\n",
       "      <td>0</td>\n",
       "      <td>1</td>\n",
       "      <td>2850</td>\n",
       "    </tr>\n",
       "  </tbody>\n",
       "</table>\n",
       "</div>"
      ],
      "text/plain": [
       "      name arrival date  age when adopted  weight in kg adoption date  \\\n",
       "672  Bambi   2010-08-25               7.0          26.0    2018-06-14   \n",
       "\n",
       "     returned date of return  black fur  purebred  male  days in shelter  \n",
       "672         0            NaT          1         0     1             2850  "
      ]
     },
     "execution_count": 3679,
     "metadata": {},
     "output_type": "execute_result"
    }
   ],
   "source": [
    "# The longest time spent in the shelter is 2850 ~ almost 8 years. Let's find out which dog it is. \n",
    "df[df['days in shelter'] == 2850]"
   ]
  },
  {
   "cell_type": "code",
   "execution_count": 3680,
   "id": "439a4419-689c-4a7b-bd19-1fd4cbc38907",
   "metadata": {},
   "outputs": [
    {
     "name": "stdout",
     "output_type": "stream",
     "text": [
      "6 outliers were found (Z-score):\n",
      "        name arrival date  age when adopted  weight in kg adoption date  \\\n",
      "31      Rico   2020-07-24               4.0          60.0    2024-05-26   \n",
      "332  Klemens   2020-11-03               4.0          19.0    2022-08-30   \n",
      "635    Monte   2016-09-04               3.0          24.0    2018-10-28   \n",
      "672    Bambi   2010-08-25               7.0          26.0    2018-06-14   \n",
      "691  Chrupek   2016-05-09              12.0          29.0    2018-02-18   \n",
      "704    Parys   2013-09-20               7.0          15.0    2018-04-20   \n",
      "\n",
      "     returned date of return  black fur  purebred  male  days in shelter  \\\n",
      "31          0            NaT          1         1     1             1402   \n",
      "332         0            NaT          0         0     1              665   \n",
      "635         0            NaT          1         0     1              784   \n",
      "672         0            NaT          1         0     1             2850   \n",
      "691         0            NaT          0         0     1              650   \n",
      "704         0            NaT          0         0     1             1673   \n",
      "\n",
      "       z_score  \n",
      "31    8.224889  \n",
      "332   3.605936  \n",
      "635   4.351737  \n",
      "672  17.299846  \n",
      "691   3.511927  \n",
      "704   9.923310  \n"
     ]
    }
   ],
   "source": [
    "# Looking at the standard deviation we may consider this one as an outlier. Let's check if there are more outliers in the dataset with the z-score method.\n",
    "# Counting z-score\n",
    "df['z_score'] = zscore(df['days in shelter'])\n",
    "\n",
    "# Detecting outliers for absolute value of z-score bigger than 3\n",
    "outliers_z = df[abs(df['z_score']) > 3]\n",
    "\n",
    "# Printing the results\n",
    "print(f'{len(outliers_z)} outliers were found (Z-score):')\n",
    "print(outliers_z)\n"
   ]
  },
  {
   "cell_type": "code",
   "execution_count": 3681,
   "id": "8a78b0ba-76f6-4979-ab56-3c1022dcf0d3",
   "metadata": {},
   "outputs": [],
   "source": [
    "# It's a hard decision what to do with these outliers. I know that they are not wrong and these dogs have actually\n",
    "# spent such a long time in the shelter. However, in case of our quite small dataset I believe they may heavily affect the analysis.\n",
    "# Let's drop them.\n",
    "df = df[abs(df['z_score']) <= 3]\n",
    "df = df.drop('z_score', axis=1)"
   ]
  },
  {
   "cell_type": "code",
   "execution_count": 3682,
   "id": "838e7c81-bde7-403b-a165-7770ecfeecd2",
   "metadata": {},
   "outputs": [
    {
     "data": {
      "text/plain": [
       "(669, 11)"
      ]
     },
     "execution_count": 3682,
     "metadata": {},
     "output_type": "execute_result"
    }
   ],
   "source": [
    "df.shape\n",
    "# We have 669 observations now and we can begin the data analysis. "
   ]
  },
  {
   "cell_type": "markdown",
   "id": "902bf715-e640-45ad-9fe9-e469f7b623e8",
   "metadata": {},
   "source": [
    "# Data analysis"
   ]
  },
  {
   "cell_type": "markdown",
   "id": "fc746dfc-d320-469e-a9f0-1e223ac90abe",
   "metadata": {},
   "source": [
    "# Correlation between several variables"
   ]
  },
  {
   "cell_type": "code",
   "execution_count": 3686,
   "id": "2d8428ea-b78a-477a-b9df-f859f98e3d33",
   "metadata": {},
   "outputs": [
    {
     "data": {
      "image/png": "[encoded data removed]",
      "text/plain": [
       "<Figure size 1200x800 with 2 Axes>"
      ]
     },
     "metadata": {},
     "output_type": "display_data"
    }
   ],
   "source": [
    "# Let's create a heatmap to see what is the exact correlation between chosen variables\n",
    "pp_df = df[['age when adopted','days in shelter', 'weight in kg']]\n",
    "corr = pp_df.corr()\n",
    "plt.figure(figsize = (12,8))\n",
    "sns.heatmap(corr, annot=True, fmt=\".2f\");"
   ]
  },
  {
   "cell_type": "code",
   "execution_count": 3687,
   "id": "cc26b4a0-7def-44b9-9799-d9a83cdcc1e0",
   "metadata": {},
   "outputs": [],
   "source": [
    "# A moderate correlation is visible between 'days in shelter' and 'weight in kg' (0.42). \n",
    "# On the other hand, we can observe a weak correlation between 'days in shelter' and '\"age when adopted\" (0.29).\n",
    "# We will laser in on these correlation later on in the regression analysis. "
   ]
  },
  {
   "cell_type": "markdown",
   "id": "3f29c091-98c5-4378-8c02-976015100de1",
   "metadata": {},
   "source": [
    "## Adoption trends"
   ]
  },
  {
   "cell_type": "code",
   "execution_count": 3689,
   "id": "8f09a9ca-78e2-4410-8c48-583743e0b854",
   "metadata": {},
   "outputs": [
    {
     "data": {
      "image/png": "[encoded data removed]",
      "text/plain": [
       "<Figure size 1000x500 with 1 Axes>"
      ]
     },
     "metadata": {},
     "output_type": "display_data"
    }
   ],
   "source": [
    "# Number of adoptions in the period of 2018-2024 (excluding 2025 since it's the current year so the number of adoptions will be small obviously)\n",
    "df['adoption year'] = df['adoption date'].dt.year\n",
    "plt.figure(figsize=(10, 5))\n",
    "sns.countplot(data=df[df['adoption year'] < 2025], x='adoption year', palette='coolwarm', hue='adoption year', legend = False)\n",
    "plt.title('Number of dog adoptions by year')\n",
    "plt.xlabel('Year of adoption')\n",
    "plt.ylabel('Number of adoption')\n",
    "plt.show()\n"
   ]
  },
  {
   "cell_type": "code",
   "execution_count": 3690,
   "id": "95e46bcf-6627-49a7-a0e1-6bcbb611fdb2",
   "metadata": {},
   "outputs": [],
   "source": [
    "# 2023 is definitely the winner in the number of adoptions, almost 200! "
   ]
  },
  {
   "cell_type": "code",
   "execution_count": 3691,
   "id": "25264235-494f-468d-824c-23015eddf3e6",
   "metadata": {},
   "outputs": [
    {
     "data": {
      "image/png": "[encoded data removed]",
      "text/plain": [
       "<Figure size 1150x500 with 1 Axes>"
      ]
     },
     "metadata": {},
     "output_type": "display_data"
    }
   ],
   "source": [
    "# Seasonality of adoptions - number of adoptions by month\n",
    "df['adoption month'] = df['adoption date'].dt.month\n",
    "plt.figure(figsize=(11.5, 5))\n",
    "sns.countplot(data=df, x='adoption month', hue='adoption month', legend=False)\n",
    "plt.title('Number of adoptions by month')\n",
    "plt.xlabel('Month')\n",
    "plt.ylabel('Number of adoptions')\n",
    "plt.xticks(range(0, 12), ['January', 'February', 'March', 'April', 'May', 'June', 'July', 'August', 'September', 'October', 'November', 'December'])\n",
    "plt.show()"
   ]
  },
  {
   "cell_type": "code",
   "execution_count": 3692,
   "id": "a0012a76-3352-499f-b15d-674228b4be85",
   "metadata": {},
   "outputs": [],
   "source": [
    "# There is a noticeable drop in adoptions during the summer holiday season. Since many people travel during this time, they may hesitate \n",
    "# to adopt a dog only to leave shortly after. As a result, the decision to adopt is likely postponed to the following months."
   ]
  },
  {
   "cell_type": "code",
   "execution_count": 3696,
   "id": "70268e42-70ea-4584-92b1-09e7dfbc668a",
   "metadata": {
    "scrolled": true
   },
   "outputs": [
    {
     "data": {
      "image/png": "[encoded data removed]",
      "text/plain": [
       "<Figure size 1000x500 with 1 Axes>"
      ]
     },
     "metadata": {},
     "output_type": "display_data"
    }
   ],
   "source": [
    "# Counting returns percentage (icncludes only dogs adopted and returned in the same year); excluding 2025\n",
    "returns_per_year = (\n",
    "    df.groupby('adoption year', observed=True)['returned']\n",
    "    .agg(lambda x: x.sum() / len(x) * 100)\n",
    ")\n",
    "\n",
    "returns_per_year_filtered = returns_per_year[returns_per_year.index < 2025]\n",
    "\n",
    "plt.figure(figsize=(10, 5))\n",
    "sns.lineplot(x=returns_per_year_filtered.index, y=returns_per_year_filtered.values, marker='o', color='red')\n",
    "plt.title('Adoption return rate by year')\n",
    "plt.xlabel('Adoption year')\n",
    "plt.ylabel('Adoption return rate')\n",
    "plt.show()"
   ]
  },
  {
   "cell_type": "code",
   "execution_count": 3697,
   "id": "65ae189d-0c25-4c90-8cdb-549fed4acdef",
   "metadata": {},
   "outputs": [],
   "source": [
    "# Although 2023 is the year in which the most dog got adopted, the return rate is not the highest. The highest adoption return rate\n",
    "# can be observed in 2024 (almost 10%), the lowest in 2021. "
   ]
  },
  {
   "cell_type": "markdown",
   "id": "a7aa1836-6469-42e8-a62d-ad848950fb55",
   "metadata": {},
   "source": [
    "# Distribution of days spent in the shelter"
   ]
  },
  {
   "cell_type": "code",
   "execution_count": 3716,
   "id": "269ff28b-2fe9-42ed-b9c1-b39375ead6ad",
   "metadata": {},
   "outputs": [
    {
     "data": {
      "image/png": "[encoded data removed]",
      "text/plain": [
       "<Figure size 800x600 with 1 Axes>"
      ]
     },
     "metadata": {},
     "output_type": "display_data"
    }
   ],
   "source": [
    "#  Let's create a histogram to see the distribution of days spent in the shelter\n",
    "plt.figure(figsize=(8, 6))\n",
    "sns.histplot(df['days in shelter'], bins=20, color='skyblue')\n",
    "plt.xlabel('Number of days spent in the shelter')\n",
    "plt.ylabel('Number of dogs')\n",
    "plt.title('Distribution of days spent in the shelter')\n",
    "plt.show()"
   ]
  },
  {
   "cell_type": "code",
   "execution_count": 3717,
   "id": "44e32cf4-f546-44dd-8453-12db033b7b8e",
   "metadata": {},
   "outputs": [],
   "source": [
    "# A right-skewed distribution can be observed - most of the dogs spent up to 100 days in the shelter before being adopted. \n",
    "# There are few long-term stays – there is a small number of cases where dogs stay in the shelter for several hundred days."
   ]
  },
  {
   "cell_type": "markdown",
   "id": "2ea672ab-79e5-4e3c-b411-3e6e6518a77f",
   "metadata": {},
   "source": [
    "## Weight analysis"
   ]
  },
  {
   "cell_type": "code",
   "execution_count": 3719,
   "id": "a0dcf48a-b0da-4c2e-834e-4f42dc918529",
   "metadata": {},
   "outputs": [
    {
     "data": {
      "image/png": "[encoded data removed]",
      "text/plain": [
       "<Figure size 800x600 with 1 Axes>"
      ]
     },
     "metadata": {},
     "output_type": "display_data"
    }
   ],
   "source": [
    "# Let's create a histogram to see the distribution of weight in kg (in intervals of 10kg).\n",
    "weight_bins = [1, 10, 20, 30, 40, 50, 60] \n",
    "weight_labels = ['1-10', '11-20', '21-30', '31-40', '41-50', '51-60']\n",
    "adopted_count = pd.cut(df['weight in kg'], bins=weight_bins, labels=weight_labels, right=True).value_counts().sort_index()\n",
    "plt.figure(figsize=(8, 6))\n",
    "adopted_count.plot(kind='bar', color='lightblue', edgecolor='black')\n",
    "plt.title('Distribution of weight')\n",
    "plt.xlabel('Weight (kg)')\n",
    "plt.ylabel('Number of dogs')\n",
    "plt.xticks(rotation=45)\n",
    "plt.tight_layout()\n",
    "\n",
    "plt.show()"
   ]
  },
  {
   "cell_type": "code",
   "execution_count": 3720,
   "id": "c3dbbe3b-5351-4526-9049-ebc04c8dfbaa",
   "metadata": {},
   "outputs": [],
   "source": [
    "# Most of the adopted dogs are in the lower weight ranges (1-10kg and 11-20kg) so rather small and medium-sized ones. The number of dogs in other\n",
    "# weight categories drops significantly. "
   ]
  },
  {
   "cell_type": "code",
   "execution_count": 3725,
   "id": "62a2fb50-2be9-41c1-9592-86fdf3016d2f",
   "metadata": {},
   "outputs": [
    {
     "data": {
      "text/plain": [
       "weight_group\n",
       "1-10      49.0\n",
       "11-20     89.0\n",
       "21-30    119.0\n",
       "31-40    155.0\n",
       "41-50    379.0\n",
       "51-60    276.0\n",
       "Name: days in shelter, dtype: float64"
      ]
     },
     "execution_count": 3725,
     "metadata": {},
     "output_type": "execute_result"
    }
   ],
   "source": [
    "# Let's divide the dogs into weight groups and count the mean of days spent in the shelter based on the weight group\n",
    "df['weight_group'] = pd.cut(df['weight in kg'], bins=weight_bins, labels=weight_labels)\n",
    "\n",
    "weight_group_stats = df.groupby('weight_group', observed=True)['days in shelter'].mean().round()\n",
    "weight_group_stats"
   ]
  },
  {
   "cell_type": "code",
   "execution_count": 3726,
   "id": "6fe0c8c0-8bdc-40f8-bfc3-fee45f9bdf6c",
   "metadata": {},
   "outputs": [
    {
     "data": {
      "text/plain": [
       "weight_group\n",
       "1-10     276\n",
       "11-20    300\n",
       "21-30     73\n",
       "31-40     16\n",
       "41-50      1\n",
       "51-60      3\n",
       "Name: count, dtype: int64"
      ]
     },
     "execution_count": 3726,
     "metadata": {},
     "output_type": "execute_result"
    }
   ],
   "source": [
    "# There seems to be a trend - bigger dogs wait longer for adoption. However, before making such assumptions, let's check the number of dogs in\n",
    "# each category\n",
    "df['weight_group'].value_counts().sort_index()"
   ]
  },
  {
   "cell_type": "code",
   "execution_count": 3729,
   "id": "fe924018-f658-41f2-9f44-143ef8aa699c",
   "metadata": {},
   "outputs": [],
   "source": [
    "# Indeed, there are only 4 dogs which weight more than 40kg. Average days spent in the shelter for these weight groups may not be representative. "
   ]
  },
  {
   "cell_type": "code",
   "execution_count": 3731,
   "id": "196d0084-2963-4eb4-9d75-f044e0c70d6e",
   "metadata": {},
   "outputs": [],
   "source": [
    "df = df.drop('weight_group', axis=1)"
   ]
  },
  {
   "cell_type": "markdown",
   "id": "338fd100-3fbd-40a3-a5c7-ee4a44b18c50",
   "metadata": {},
   "source": [
    "# Age"
   ]
  },
  {
   "cell_type": "code",
   "execution_count": 3734,
   "id": "508abd9c-c888-4b5a-af9a-82e9fb21022e",
   "metadata": {},
   "outputs": [
    {
     "data": {
      "image/png": "[encoded data removed]",
      "text/plain": [
       "<Figure size 800x500 with 1 Axes>"
      ]
     },
     "metadata": {},
     "output_type": "display_data"
    }
   ],
   "source": [
    "# Distribution of dog age\n",
    "plt.figure(figsize=(8, 5))\n",
    "sns.histplot(df['age when adopted'], bins=20, color='steelblue')\n",
    "plt.title('Distribution of dog age')\n",
    "plt.xlabel('Dog age (in yrs)')\n",
    "plt.ylabel('Number of dogs')\n",
    "plt.show()"
   ]
  },
  {
   "cell_type": "code",
   "execution_count": 3735,
   "id": "ba414cfc-9ef4-4237-94c5-4645565da7b3",
   "metadata": {},
   "outputs": [],
   "source": [
    "# Most of the dogs in our dataset are rather young - less than 2 years old. There are only a dozen or so senior dogs."
   ]
  },
  {
   "cell_type": "code",
   "execution_count": 3738,
   "id": "4dff7f1b-5528-4d2a-aa8e-733a150e2e97",
   "metadata": {},
   "outputs": [
    {
     "data": {
      "image/png": "[encoded data removed]",
      "text/plain": [
       "<Figure size 800x600 with 1 Axes>"
      ]
     },
     "metadata": {},
     "output_type": "display_data"
    }
   ],
   "source": [
    "# Do older dogs wait longer for adoption?\n",
    "plt.figure(figsize=(8, 6))\n",
    "sns.scatterplot(x=df['days in shelter'], y=df['age when adopted'], alpha=0.5)\n",
    "plt.xlabel('Number of days spent in the shelter')\n",
    "plt.ylabel('Dog age (in yrs)')\n",
    "plt.title('Does age of the dog influence on the time spent in the shelter?')\n",
    "plt.show()"
   ]
  },
  {
   "cell_type": "code",
   "execution_count": 3751,
   "id": "cc2be620-5952-429d-b01c-5ab6c3e55229",
   "metadata": {},
   "outputs": [],
   "source": [
    "# There is no clear linear relationship – the points are widely scattered, meaning there is no obvious trend showing that older or younger dogs \n",
    "# consistently spend more or less time in the shelter. There might be a slight trend of older dogs staying longer – while younger dogs are found \n",
    "# across all time ranges, older dogs seem more dispersed, including those with extended shelter stays. "
   ]
  },
  {
   "cell_type": "markdown",
   "id": "025a86fb-addc-4bf7-a2c1-215b2269c493",
   "metadata": {},
   "source": [
    "# Gender"
   ]
  },
  {
   "cell_type": "code",
   "execution_count": 3754,
   "id": "0d3ac405-bbf0-4f8d-b273-885f53fec3bc",
   "metadata": {},
   "outputs": [
    {
     "data": {
      "image/png": "[encoded data removed]",
      "text/plain": [
       "<Figure size 600x600 with 1 Axes>"
      ]
     },
     "metadata": {},
     "output_type": "display_data"
    }
   ],
   "source": [
    "plt.figure(figsize=(6, 6))\n",
    "sns.boxplot(x=df['male'].map({0: 'Female', 1: 'Male'}), \n",
    "            y=df['days in shelter'], hue=df['male'], legend=False)\n",
    "plt.xlabel('Dogs gender')\n",
    "plt.ylabel('Number of days spent in the shelter')\n",
    "plt.title('Comparison of length of stay in the shelter between male and female dogs')\n",
    "plt.show()"
   ]
  },
  {
   "cell_type": "code",
   "execution_count": 3756,
   "id": "bc2f77f5-7317-4b9b-ae29-e624beb2b807",
   "metadata": {},
   "outputs": [
    {
     "name": "stdout",
     "output_type": "stream",
     "text": [
      "male\n",
      "0    62.572016\n",
      "1    87.502347\n",
      "Name: days in shelter, dtype: float64\n"
     ]
    }
   ],
   "source": [
    "# average days in the shelter for both genders\n",
    "print(df.groupby('male')['days in shelter'].mean())\n"
   ]
  },
  {
   "cell_type": "code",
   "execution_count": 3758,
   "id": "1061aa8c-72ff-4e2c-ba36-b3697cff5428",
   "metadata": {},
   "outputs": [
    {
     "data": {
      "text/plain": [
       "male\n",
       "0    243\n",
       "1    426\n",
       "Name: count, dtype: int64"
      ]
     },
     "execution_count": 3758,
     "metadata": {},
     "output_type": "execute_result"
    }
   ],
   "source": [
    "df['male'].value_counts().sort_index()"
   ]
  },
  {
   "cell_type": "code",
   "execution_count": 3760,
   "id": "a9389628-0b9d-43c8-aa45-0e374fb57bb0",
   "metadata": {},
   "outputs": [
    {
     "name": "stdout",
     "output_type": "stream",
     "text": [
      "T-stat: 4.34, p-value: 0.0000\n"
     ]
    }
   ],
   "source": [
    "# It seems that male dogs wait longer for adoption than female dogs, the difference is about 25 days. However, there are more than two times more\n",
    "# male dogs in the dataset, so let's check if the difference between groups is significant.\n",
    "male_dogs = df[df['male'] == 1]['days in shelter']\n",
    "female_dogs = df[df['male'] == 0]['days in shelter']\n",
    "\n",
    "# t-student test\n",
    "t_stat, p_value = ttest_ind(male_dogs, female_dogs, equal_var=False) \n",
    "\n",
    "# Result\n",
    "print(f\"T-stat: {t_stat:.2f}, p-value: {p_value:.4f}\")"
   ]
  },
  {
   "cell_type": "code",
   "execution_count": 3762,
   "id": "2e3bb4bf-cb99-479d-9dc8-2ed4dbbfa611",
   "metadata": {},
   "outputs": [],
   "source": [
    "# p-value is less than 0.05 meaning that the difference is statistically significant and male dogs wait longer for adoption."
   ]
  },
  {
   "cell_type": "markdown",
   "id": "22afae32-5d3e-421e-8bb5-aaf8df005a50",
   "metadata": {},
   "source": [
    "# Breed"
   ]
  },
  {
   "cell_type": "code",
   "execution_count": 3765,
   "id": "6d807879-ead5-48b5-bcc9-c9628452a0a4",
   "metadata": {},
   "outputs": [
    {
     "data": {
      "image/png": "[encoded data removed]",
      "text/plain": [
       "<Figure size 800x600 with 1 Axes>"
      ]
     },
     "metadata": {},
     "output_type": "display_data"
    }
   ],
   "source": [
    "plt.figure(figsize=(8, 6))\n",
    "sns.boxplot(x=df['purebred'], y=df['days in shelter'], hue=df['purebred'], legend = False)\n",
    "plt.xlabel('Is the dog purebred?')\n",
    "plt.ylabel('Number of days spent in the shelter')\n",
    "plt.title('Comparison of length of stay in the shelter between mix-breed and purebred dogs')\n",
    "plt.xticks([0, 1], ['Mix-breed', 'Purebred'])\n",
    "plt.show()"
   ]
  },
  {
   "cell_type": "code",
   "execution_count": 3766,
   "id": "d67f4c86-e0ba-41f1-b508-0fc3a73f4b90",
   "metadata": {},
   "outputs": [
    {
     "name": "stdout",
     "output_type": "stream",
     "text": [
      "purebred\n",
      "0    80.510673\n",
      "1    57.500000\n",
      "Name: days in shelter, dtype: float64\n"
     ]
    }
   ],
   "source": [
    "purebred_stats = df.groupby('purebred')['days in shelter'].mean()\n",
    "print(purebred_stats)"
   ]
  },
  {
   "cell_type": "code",
   "execution_count": 3769,
   "id": "f9cc1e7c-cf8e-4e2f-bc8e-ff9bca502037",
   "metadata": {},
   "outputs": [
    {
     "data": {
      "text/plain": [
       "purebred\n",
       "0    609\n",
       "1     60\n",
       "Name: count, dtype: int64"
      ]
     },
     "execution_count": 3769,
     "metadata": {},
     "output_type": "execute_result"
    }
   ],
   "source": [
    "df['purebred'].value_counts().sort_index()"
   ]
  },
  {
   "cell_type": "code",
   "execution_count": 3771,
   "id": "34c1cda0-4717-42d3-8000-19d197316c62",
   "metadata": {},
   "outputs": [],
   "source": [
    "# It seems that mix-breed dogs wait longer for adoption than purebred ones, the difference is about 23 days. Though, the number of dogs in each category\n",
    "# differs a lot. Let's check if the difference between these groups is significant."
   ]
  },
  {
   "cell_type": "code",
   "execution_count": 3773,
   "id": "b98f3b1e-589b-4fab-a5ee-ca5b49fc1bfd",
   "metadata": {},
   "outputs": [
    {
     "name": "stdout",
     "output_type": "stream",
     "text": [
      "T-stat: -3.44, p-value: 0.0008\n"
     ]
    }
   ],
   "source": [
    "purebred_dogs = df[df['purebred'] == 1]['days in shelter']\n",
    "mix_dogs = df[df['purebred'] == 0]['days in shelter']\n",
    "\n",
    "t_stat, p_value = ttest_ind(purebred_dogs, mix_dogs, equal_var=False)\n",
    "print(f'T-stat: {t_stat:.2f}, p-value: {p_value:.4f}')\n"
   ]
  },
  {
   "cell_type": "code",
   "execution_count": 3775,
   "id": "39ef23ec-6dab-4b43-b6a6-2d4a6e0f8bcd",
   "metadata": {},
   "outputs": [],
   "source": [
    "# p-value < 0.05 indicates that the difference is actually statistically significant, meaning that mix-breed dogs wait longer for adoption. "
   ]
  },
  {
   "cell_type": "markdown",
   "id": "fc9aecc4-89bf-4021-b9f3-e48ebe4227d4",
   "metadata": {},
   "source": [
    " # Linear regression - age, weight"
   ]
  },
  {
   "cell_type": "code",
   "execution_count": 3778,
   "id": "aeaa597f-2679-481c-8f1e-d0293068b314",
   "metadata": {
    "scrolled": true
   },
   "outputs": [
    {
     "name": "stdout",
     "output_type": "stream",
     "text": [
      "                            OLS Regression Results                            \n",
      "==============================================================================\n",
      "Dep. Variable:        days in shelter   R-squared:                       0.218\n",
      "Model:                            OLS   Adj. R-squared:                  0.215\n",
      "Method:                 Least Squares   F-statistic:                     92.70\n",
      "Date:                Mon, 24 Feb 2025   Prob (F-statistic):           3.04e-36\n",
      "Time:                        12:12:39   Log-Likelihood:                -3786.2\n",
      "No. Observations:                 669   AIC:                             7578.\n",
      "Df Residuals:                     666   BIC:                             7592.\n",
      "Df Model:                           2                                         \n",
      "Covariance Type:            nonrobust                                         \n",
      "====================================================================================\n",
      "                       coef    std err          t      P>|t|      [0.025      0.975]\n",
      "------------------------------------------------------------------------------------\n",
      "const                2.9136      6.170      0.472      0.637      -9.201      15.028\n",
      "age when adopted     6.3276      1.072      5.904      0.000       4.223       8.432\n",
      "weight in kg         4.1782      0.389     10.747      0.000       3.415       4.942\n",
      "==============================================================================\n",
      "Omnibus:                      428.841   Durbin-Watson:                   1.914\n",
      "Prob(Omnibus):                  0.000   Jarque-Bera (JB):             4210.168\n",
      "Skew:                           2.808   Prob(JB):                         0.00\n",
      "Kurtosis:                      13.931   Cond. No.                         35.6\n",
      "==============================================================================\n",
      "\n",
      "Notes:\n",
      "[1] Standard Errors assume that the covariance matrix of the errors is correctly specified.\n"
     ]
    }
   ],
   "source": [
    "# Preparing the data\n",
    "X = df[['age when adopted', 'weight in kg']]  # Independent variables\n",
    "X = sm.add_constant(X)  # Adding and intercept\n",
    "y = df['days in shelter']  # Dependent variable\n",
    "\n",
    "# Linear regression model\n",
    "model = sm.OLS(y, X).fit()\n",
    "\n",
    "# Model results\n",
    "print(model.summary())"
   ]
  },
  {
   "cell_type": "markdown",
   "id": "90535c86-2401-4f1d-a5b7-35726d9ef725",
   "metadata": {},
   "source": [
    "R-squared = 0.21 means that the model explains 21% of variation in the number of days spent in the shelter. This is not much. \n",
    "The other 79% results from other factors that are not included in the model.\n",
    "Value of Prob(F-statistic) is less then 0.01 meaning that one of the predictors has a significant effect on the dependent variable.\n",
    "Each additional year of a dog’s age means an increase of almost 6 days spent in a shelter.\n",
    "Each additional kilogram of a dog’s weight means an increase of almost 4 days spent in a shelter."
   ]
  },
  {
   "cell_type": "code",
   "execution_count": 3781,
   "id": "6680f6fd-16d2-4040-8ffd-b2908cabb789",
   "metadata": {},
   "outputs": [],
   "source": [
    "# Let's visualize our model."
   ]
  },
  {
   "cell_type": "code",
   "execution_count": 3783,
   "id": "729a1da4-f14f-4d6d-abc2-c6f297baff00",
   "metadata": {},
   "outputs": [
    {
     "data": {
      "image/png": "[encoded data removed]",
      "text/plain": [
       "<Figure size 800x600 with 1 Axes>"
      ]
     },
     "metadata": {},
     "output_type": "display_data"
    }
   ],
   "source": [
    "# Counting predicted values\n",
    "df['predicted_days'] = model.predict(X)\n",
    "\n",
    "# Plot: Actual vs predicted data\n",
    "plt.figure(figsize=(8,6))\n",
    "plt.scatter(df['predicted_days'], df['days in shelter'], alpha=0.5)\n",
    "plt.plot([df['predicted_days'].min(), df['predicted_days'].max()], \n",
    "         [df['predicted_days'].min(), df['predicted_days'].max()], 'r--', lw=2)\n",
    "plt.xlabel('Predicted number of days')\n",
    "plt.ylabel('Actual number of days')\n",
    "plt.title('Actual vs predicted values')\n",
    "plt.show()"
   ]
  },
  {
   "cell_type": "code",
   "execution_count": 3785,
   "id": "77858cf9-8f6f-461d-bc22-c962c78e7bab",
   "metadata": {},
   "outputs": [],
   "source": [
    "df = df.drop('predicted_days', axis=1)"
   ]
  },
  {
   "cell_type": "markdown",
   "id": "b3bb96cd-5562-4bd8-a2f4-da200d0f05ba",
   "metadata": {},
   "source": [
    "# Linear Regression with other variables"
   ]
  },
  {
   "cell_type": "code",
   "execution_count": 3788,
   "id": "f8539dea-6cf0-40db-a7d8-5184da076463",
   "metadata": {},
   "outputs": [
    {
     "name": "stdout",
     "output_type": "stream",
     "text": [
      "                            OLS Regression Results                            \n",
      "==============================================================================\n",
      "Dep. Variable:        days in shelter   R-squared:                       0.258\n",
      "Model:                            OLS   Adj. R-squared:                  0.252\n",
      "Method:                 Least Squares   F-statistic:                     46.01\n",
      "Date:                Mon, 24 Feb 2025   Prob (F-statistic):           7.95e-41\n",
      "Time:                        12:12:41   Log-Likelihood:                -3768.8\n",
      "No. Observations:                 669   AIC:                             7550.\n",
      "Df Residuals:                     663   BIC:                             7577.\n",
      "Df Model:                           5                                         \n",
      "Covariance Type:            nonrobust                                         \n",
      "====================================================================================\n",
      "                       coef    std err          t      P>|t|      [0.025      0.975]\n",
      "------------------------------------------------------------------------------------\n",
      "const              -10.4955      7.018     -1.496      0.135     -24.275       3.284\n",
      "age when adopted     6.5743      1.064      6.181      0.000       4.486       8.663\n",
      "weight in kg         4.1790      0.382     10.954      0.000       3.430       4.928\n",
      "black fur           17.3259      5.312      3.262      0.001       6.895      27.757\n",
      "purebred           -35.8415      9.393     -3.816      0.000     -54.286     -17.397\n",
      "male                12.0042      5.553      2.162      0.031       1.100      22.909\n",
      "==============================================================================\n",
      "Omnibus:                      422.083   Durbin-Watson:                   1.899\n",
      "Prob(Omnibus):                  0.000   Jarque-Bera (JB):             4094.147\n",
      "Skew:                           2.752   Prob(JB):                         0.00\n",
      "Kurtosis:                      13.797   Cond. No.                         56.2\n",
      "==============================================================================\n",
      "\n",
      "Notes:\n",
      "[1] Standard Errors assume that the covariance matrix of the errors is correctly specified.\n"
     ]
    }
   ],
   "source": [
    "y = df['days in shelter']\n",
    "\n",
    "# Matrix of independent variables – removing some of the variables, including the dependent one\n",
    "X = df.drop(['days in shelter', 'name', 'arrival date', 'adoption date', 'returned', 'date of return', \n",
    "             'adoption year', 'adoption month'], axis=1)\n",
    "X = sm.add_constant(X)\n",
    "model = sm.OLS(y, X).fit()\n",
    "\n",
    "print(model.summary())"
   ]
  },
  {
   "cell_type": "markdown",
   "id": "cb56051d-ec4e-4ae5-99ab-9636163edec2",
   "metadata": {},
   "source": [
    "R-squared equals 0.259, meaning that the model explains only 25.9% of the variance in the number of days spent in the shelter. This suggests that the independent variables included in the model do not capture all the factors affecting shelter duration.\n",
    "Prob (F-Statistic) = 3.79e-40 suggests that the overall regression model is statistically significant, meaning at least one of the predictors contributes to explaining the variation in days spent in the shelter.\n",
    "The P>|t| value for each of the variable is higher than 0.05 meaning that none on the individual predictors are significant.\n",
    "The results of Jarque-Bera test, value of skewness and kurtosis suggest that the data is not normally distributed and has high skewness, meaning the\n",
    "model may not be the best fit."
   ]
  }
 ],
 "metadata": {
  "kernelspec": {
   "display_name": "Python 3 (ipykernel)",
   "language": "python",
   "name": "python3"
  },
  "language_info": {
   "codemirror_mode": {
    "name": "ipython",
    "version": 3
   },
   "file_extension": ".py",
   "mimetype": "text/x-python",
   "name": "python",
   "nbconvert_exporter": "python",
   "pygments_lexer": "ipython3",
   "version": "3.12.7"
  }
 },
 "nbformat": 4,
 "nbformat_minor": 5
}
